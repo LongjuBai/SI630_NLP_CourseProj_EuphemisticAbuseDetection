{
 "cells": [
  {
   "cell_type": "code",
   "execution_count": 18,
   "metadata": {},
   "outputs": [],
   "source": [
    "import pandas as pd\n",
    "import openai\n",
    "import os\n",
    "from tqdm import tqdm\n",
    "\n",
    "from openai import OpenAI, OpenAIError\n"
   ]
  },
  {
   "cell_type": "code",
   "execution_count": 19,
   "metadata": {},
   "outputs": [],
   "source": [
    "# openai.api_type = \"azure\"\n",
    "# openai.api_base = \"https://lit-azure-openai-2.openai.azure.com/\"\n",
    "# openai.api_version = \"2023-09-01-preview\"\n",
    "# openai.api_key =  \"sk-proj-srf0GOOUxV7oOvgszSjPT3BlbkFJcER9kB6xb0wUq6x9N0Iq\"\n",
    "os.environ[\"OPENAI_API_KEY\"] = \"sk-proj-srf0GOOUxV7oOvgszSjPT3BlbkFJcER9kB6xb0wUq6x9N0Iq\"\n",
    "# api_key =  \"sk-proj-srf0GOOUxV7oOvgszSjPT3BlbkFJcER9kB6xb0wUq6x9N0Iq\"\n",
    "client = OpenAI()"
   ]
  },
  {
   "cell_type": "code",
   "execution_count": 20,
   "metadata": {},
   "outputs": [
    {
     "name": "stdout",
     "output_type": "stream",
     "text": [
      "Hello! How can I assist you today?\n"
     ]
    }
   ],
   "source": [
    "completion = client.chat.completions.create(\n",
    "  model=\"gpt-4-turbo-2024-04-09\",\n",
    "  messages=[\n",
    "    {\"role\": \"system\", \"content\": \"You are a helpful assistant.\"},\n",
    "    {\"role\": \"user\", \"content\": \"Hello!\"}\n",
    "  ]\n",
    ")\n",
    "\n",
    "print(completion.choices[0].message.content)"
   ]
  },
  {
   "cell_type": "code",
   "execution_count": 21,
   "metadata": {},
   "outputs": [
    {
     "name": "stdout",
     "output_type": "stream",
     "text": [
      "Hello! How can I assist you today?\n"
     ]
    }
   ],
   "source": [
    "def get_completion(prompt):\n",
    "    messages = [{\"role\": \"user\", \"content\": prompt}]\n",
    "    try:\n",
    "        response = client.chat.completions.create(\n",
    "            model=\"gpt-4-turbo-2024-04-09\",  # Using the specific model as indicated\n",
    "            messages=messages,\n",
    "            temperature=1,\n",
    "            top_p=1\n",
    "        )\n",
    "        return response.choices[0].message.content  # Accessing the 'content' using dot notation\n",
    "    except OpenAIError as e:\n",
    "        print(f\"OpenAI Error: {e} - There was an issue with the API call.\")\n",
    "        return None  # Handle OpenAI API specific errors\n",
    "    except Exception as e:\n",
    "        print(f\"General Error: {e} - An unexpected error occurred.\")\n",
    "        return None  # Handle other unforeseen errors\n",
    "\n",
    "# Example usage\n",
    "prompt = \"hello!\"\n",
    "output_sentence = get_completion(prompt)\n",
    "print(output_sentence if output_sentence else \"Prompt was skipped or an error occurred.\")\n",
    "\n",
    "\n",
    "# from openai import OpenAI\n",
    "# client = OpenAI()\n",
    "\n",
    "# completion = client.chat.completions.create(\n",
    "#   model=\"gpt-4-turbo-2024-04-09\",\n",
    "#   messages=[\n",
    "#     {\"role\": \"system\", \"content\": \"You are a helpful assistant.\"},\n",
    "#     {\"role\": \"user\", \"content\": \"Hello!\"}\n",
    "#   ]\n",
    "# )\n",
    "\n",
    "# print(completion.choices[0].message)"
   ]
  },
  {
   "cell_type": "code",
   "execution_count": 22,
   "metadata": {},
   "outputs": [],
   "source": [
    "def load_examples(file_path):\n",
    "    with open(file_path, 'r') as file:\n",
    "        examples = file.read().strip()\n",
    "    return examples"
   ]
  },
  {
   "cell_type": "code",
   "execution_count": 23,
   "metadata": {},
   "outputs": [],
   "source": [
    "def generate_data(dataset_csv, examples_file, output_csv):\n",
    "    # Read the dataset CSV\n",
    "    df = pd.read_csv(dataset_csv)\n",
    "    # df = df.head(5)\n",
    "\n",
    "    examples = load_examples(examples_file)\n",
    "    # Initialize lists to store explanations and predictions\n",
    "    \n",
    "    \n",
    "    explanations = []\n",
    "    predictions = []\n",
    "    \n",
    "    # Iterate over each row in the dataset\n",
    "    for index, row in tqdm(df.iterrows(), total=len(df), desc=\"Generating predictions\"):\n",
    "        # Extract the text from the row\n",
    "        text = row['text']\n",
    "        \n",
    "        # Generate the completion using the provided prompt and get_completion function\n",
    "        prompt = f\"{examples}\\n\\n\" \\\n",
    "                 f\"Please follow the INSTRUCTION and think step by step: given a SENTENCE, first output an explanation about whether you think the given SENTENCE is labeled as abuse, then output the label PREDICTION\\n\\nINSTRUCTION: Think step by step: given the following SENTENCE, first output an explanation about whether you think the given SENTENCE is labeled as abuse, then output the label PREDICTION\\nSENTENCE: {text}\\nEXPLANATION: \\nPREDICTION: \"\n",
    "        completion = get_completion(prompt)\n",
    "        \n",
    "        # Extract the explanation and prediction from the completion\n",
    "        explanation = completion.split(\"EXPLANATION: \")[-1].split(\"PREDICTION:\")[0].strip()\n",
    "        prediction = completion.split(\"PREDICTION:\")[-1].strip()\n",
    "\n",
    "        if prediction == \"NONE\":\n",
    "            prediction = \"NONE ABUSE\"\n",
    "        \n",
    "        # Append the explanation and prediction to their respective lists\n",
    "        explanations.append(explanation)\n",
    "        predictions.append(prediction)\n",
    "    \n",
    "    # Add explanations and predictions as columns to the DataFrame\n",
    "    df['explanations'] = explanations\n",
    "    df['predictions'] = predictions\n",
    "    display(df)\n",
    "    # Save the DataFrame with explanations and predictions\n",
    "    df.to_csv(output_csv, index=False)"
   ]
  },
  {
   "cell_type": "code",
   "execution_count": 24,
   "metadata": {},
   "outputs": [],
   "source": [
    "dataset_csv = '../../dataset/train_dev/test_set.csv'\n",
    "# output_csv = 'gpt4_cot_prediction_test.csv'\n",
    "output_csv = 'gpt4_cot_prediction.csv'\n",
    "examples_file = 'cot_FewShot_prompt.txt'"
   ]
  },
  {
   "cell_type": "code",
   "execution_count": 25,
   "metadata": {},
   "outputs": [
    {
     "name": "stderr",
     "output_type": "stream",
     "text": [
      "Generating predictions:   0%|          | 0/360 [00:00<?, ?it/s]\rGenerating predictions:   0%|          | 1/360 [00:02<15:51,  2.65s/it]\rGenerating predictions:   1%|          | 2/360 [00:05<17:24,  2.92s/it]\rGenerating predictions:   1%|          | 3/360 [00:08<17:04,  2.87s/it]\rGenerating predictions:   1%|          | 4/360 [00:11<16:47,  2.83s/it]\rGenerating predictions:   1%|▏         | 5/360 [00:14<17:58,  3.04s/it]\rGenerating predictions:   2%|▏         | 6/360 [00:17<17:20,  2.94s/it]\rGenerating predictions:   2%|▏         | 7/360 [00:20<17:16,  2.94s/it]\rGenerating predictions:   2%|▏         | 8/360 [00:25<21:17,  3.63s/it]\rGenerating predictions:   2%|▎         | 9/360 [00:28<19:57,  3.41s/it]\rGenerating predictions:   3%|▎         | 10/360 [00:31<18:28,  3.17s/it]\rGenerating predictions:   3%|▎         | 11/360 [00:35<20:33,  3.53s/it]\rGenerating predictions:   3%|▎         | 12/360 [00:38<19:46,  3.41s/it]\rGenerating predictions:   4%|▎         | 13/360 [00:41<18:14,  3.15s/it]\rGenerating predictions:   4%|▍         | 14/360 [00:44<18:16,  3.17s/it]\rGenerating predictions:   4%|▍         | 15/360 [00:47<17:45,  3.09s/it]\rGenerating predictions:   4%|▍         | 16/360 [00:49<16:51,  2.94s/it]\rGenerating predictions:   5%|▍         | 17/360 [00:51<15:20,  2.68s/it]\rGenerating predictions:   5%|▌         | 18/360 [00:54<14:56,  2.62s/it]\rGenerating predictions:   5%|▌         | 19/360 [00:57<15:25,  2.71s/it]\rGenerating predictions:   6%|▌         | 20/360 [01:00<15:49,  2.79s/it]\rGenerating predictions:   6%|▌         | 21/360 [01:02<15:20,  2.72s/it]\rGenerating predictions:   6%|▌         | 22/360 [01:05<15:50,  2.81s/it]\rGenerating predictions:   6%|▋         | 23/360 [01:10<18:00,  3.21s/it]\rGenerating predictions:   7%|▋         | 24/360 [01:12<17:06,  3.06s/it]\rGenerating predictions:   7%|▋         | 25/360 [01:16<18:59,  3.40s/it]\rGenerating predictions:   7%|▋         | 26/360 [01:20<18:31,  3.33s/it]\rGenerating predictions:   8%|▊         | 27/360 [01:22<17:27,  3.15s/it]\rGenerating predictions:   8%|▊         | 28/360 [01:29<23:25,  4.23s/it]\rGenerating predictions:   8%|▊         | 29/360 [01:32<20:28,  3.71s/it]\rGenerating predictions:   8%|▊         | 30/360 [01:34<19:02,  3.46s/it]\rGenerating predictions:   9%|▊         | 31/360 [01:37<17:44,  3.23s/it]\rGenerating predictions:   9%|▉         | 32/360 [01:40<16:22,  2.99s/it]\rGenerating predictions:   9%|▉         | 33/360 [01:42<15:49,  2.90s/it]\rGenerating predictions:   9%|▉         | 34/360 [01:45<15:19,  2.82s/it]\rGenerating predictions:  10%|▉         | 35/360 [01:47<14:37,  2.70s/it]\rGenerating predictions:  10%|█         | 36/360 [01:51<16:31,  3.06s/it]\rGenerating predictions:  10%|█         | 37/360 [01:53<14:23,  2.67s/it]\rGenerating predictions:  11%|█         | 38/360 [01:55<14:03,  2.62s/it]\rGenerating predictions:  11%|█         | 39/360 [01:58<13:26,  2.51s/it]\rGenerating predictions:  11%|█         | 40/360 [02:01<14:17,  2.68s/it]\rGenerating predictions:  11%|█▏        | 41/360 [02:03<12:59,  2.44s/it]\rGenerating predictions:  12%|█▏        | 42/360 [02:05<13:25,  2.53s/it]\rGenerating predictions:  12%|█▏        | 43/360 [02:09<14:46,  2.80s/it]\rGenerating predictions:  12%|█▏        | 44/360 [02:13<16:49,  3.20s/it]\rGenerating predictions:  12%|█▎        | 45/360 [02:22<25:47,  4.91s/it]\rGenerating predictions:  13%|█▎        | 46/360 [02:24<21:33,  4.12s/it]\rGenerating predictions:  13%|█▎        | 47/360 [02:28<21:46,  4.17s/it]\rGenerating predictions:  13%|█▎        | 48/360 [02:37<28:08,  5.41s/it]\rGenerating predictions:  14%|█▎        | 49/360 [02:40<24:24,  4.71s/it]\rGenerating predictions:  14%|█▍        | 50/360 [02:43<21:16,  4.12s/it]\rGenerating predictions:  14%|█▍        | 51/360 [02:45<18:33,  3.60s/it]\rGenerating predictions:  14%|█▍        | 52/360 [02:48<17:11,  3.35s/it]\rGenerating predictions:  15%|█▍        | 53/360 [02:51<17:41,  3.46s/it]\rGenerating predictions:  15%|█▌        | 54/360 [02:54<16:44,  3.28s/it]\rGenerating predictions:  15%|█▌        | 55/360 [02:57<15:40,  3.08s/it]\rGenerating predictions:  16%|█▌        | 56/360 [03:01<16:24,  3.24s/it]\rGenerating predictions:  16%|█▌        | 57/360 [03:05<18:09,  3.59s/it]\rGenerating predictions:  16%|█▌        | 58/360 [03:09<18:14,  3.62s/it]\rGenerating predictions:  16%|█▋        | 59/360 [03:13<18:42,  3.73s/it]\rGenerating predictions:  17%|█▋        | 60/360 [03:16<17:36,  3.52s/it]\rGenerating predictions:  17%|█▋        | 61/360 [03:18<16:05,  3.23s/it]\rGenerating predictions:  17%|█▋        | 62/360 [03:21<15:01,  3.03s/it]\rGenerating predictions:  18%|█▊        | 63/360 [03:24<15:38,  3.16s/it]\rGenerating predictions:  18%|█▊        | 64/360 [03:28<16:09,  3.27s/it]\rGenerating predictions:  18%|█▊        | 65/360 [03:31<16:27,  3.35s/it]\rGenerating predictions:  18%|█▊        | 66/360 [03:34<15:27,  3.16s/it]\rGenerating predictions:  19%|█▊        | 67/360 [03:36<13:59,  2.86s/it]\rGenerating predictions:  19%|█▉        | 68/360 [03:39<13:36,  2.79s/it]\rGenerating predictions:  19%|█▉        | 69/360 [03:41<13:14,  2.73s/it]\rGenerating predictions:  19%|█▉        | 70/360 [03:44<13:03,  2.70s/it]\rGenerating predictions:  20%|█▉        | 71/360 [03:48<14:20,  2.98s/it]\rGenerating predictions:  20%|██        | 72/360 [03:51<14:22,  2.99s/it]\rGenerating predictions:  20%|██        | 73/360 [03:55<16:27,  3.44s/it]\rGenerating predictions:  21%|██        | 74/360 [03:57<14:40,  3.08s/it]\rGenerating predictions:  21%|██        | 75/360 [04:03<17:41,  3.73s/it]\rGenerating predictions:  21%|██        | 76/360 [04:06<17:33,  3.71s/it]\rGenerating predictions:  21%|██▏       | 77/360 [04:10<17:33,  3.72s/it]\rGenerating predictions:  22%|██▏       | 78/360 [04:13<16:32,  3.52s/it]\rGenerating predictions:  22%|██▏       | 79/360 [04:16<15:32,  3.32s/it]\rGenerating predictions:  22%|██▏       | 80/360 [04:18<14:03,  3.01s/it]\rGenerating predictions:  22%|██▎       | 81/360 [04:21<13:37,  2.93s/it]\rGenerating predictions:  23%|██▎       | 82/360 [04:24<13:06,  2.83s/it]\rGenerating predictions:  23%|██▎       | 83/360 [04:26<12:35,  2.73s/it]\rGenerating predictions:  23%|██▎       | 84/360 [04:28<11:40,  2.54s/it]\rGenerating predictions:  24%|██▎       | 85/360 [04:31<11:57,  2.61s/it]\rGenerating predictions:  24%|██▍       | 86/360 [04:34<12:37,  2.77s/it]\rGenerating predictions:  24%|██▍       | 87/360 [04:39<14:54,  3.28s/it]\rGenerating predictions:  24%|██▍       | 88/360 [04:42<15:39,  3.45s/it]\rGenerating predictions:  25%|██▍       | 89/360 [04:45<13:58,  3.09s/it]\rGenerating predictions:  25%|██▌       | 90/360 [04:47<13:19,  2.96s/it]\rGenerating predictions:  25%|██▌       | 91/360 [04:51<14:33,  3.25s/it]\rGenerating predictions:  26%|██▌       | 92/360 [04:54<13:24,  3.00s/it]\rGenerating predictions:  26%|██▌       | 93/360 [04:58<14:41,  3.30s/it]\rGenerating predictions:  26%|██▌       | 94/360 [05:02<16:31,  3.73s/it]\rGenerating predictions:  26%|██▋       | 95/360 [05:05<15:00,  3.40s/it]\rGenerating predictions:  27%|██▋       | 96/360 [05:08<14:20,  3.26s/it]\rGenerating predictions:  27%|██▋       | 97/360 [05:11<13:47,  3.15s/it]\rGenerating predictions:  27%|██▋       | 98/360 [05:14<13:48,  3.16s/it]\rGenerating predictions:  28%|██▊       | 99/360 [05:17<13:33,  3.12s/it]\rGenerating predictions:  28%|██▊       | 100/360 [05:19<12:14,  2.82s/it]\rGenerating predictions:  28%|██▊       | 101/360 [05:22<11:53,  2.75s/it]\rGenerating predictions:  28%|██▊       | 102/360 [05:26<13:51,  3.22s/it]\rGenerating predictions:  29%|██▊       | 103/360 [05:29<13:48,  3.22s/it]\rGenerating predictions:  29%|██▉       | 104/360 [05:33<13:41,  3.21s/it]\rGenerating predictions:  29%|██▉       | 105/360 [05:35<12:59,  3.06s/it]\rGenerating predictions:  29%|██▉       | 106/360 [05:39<13:27,  3.18s/it]\rGenerating predictions:  30%|██▉       | 107/360 [05:42<12:59,  3.08s/it]\rGenerating predictions:  30%|███       | 108/360 [05:49<18:14,  4.34s/it]\rGenerating predictions:  30%|███       | 109/360 [05:53<17:29,  4.18s/it]\rGenerating predictions:  31%|███       | 110/360 [05:55<15:06,  3.62s/it]\rGenerating predictions:  31%|███       | 111/360 [05:58<14:02,  3.38s/it]\rGenerating predictions:  31%|███       | 112/360 [06:01<13:41,  3.31s/it]\rGenerating predictions:  31%|███▏      | 113/360 [06:06<16:22,  3.98s/it]\rGenerating predictions:  32%|███▏      | 114/360 [06:09<14:30,  3.54s/it]\rGenerating predictions:  32%|███▏      | 115/360 [06:12<13:34,  3.32s/it]\rGenerating predictions:  32%|███▏      | 116/360 [06:14<12:35,  3.10s/it]\rGenerating predictions:  32%|███▎      | 117/360 [06:21<17:16,  4.27s/it]\rGenerating predictions:  33%|███▎      | 118/360 [06:24<15:12,  3.77s/it]\rGenerating predictions:  33%|███▎      | 119/360 [06:29<16:08,  4.02s/it]\rGenerating predictions:  33%|███▎      | 120/360 [06:32<15:09,  3.79s/it]\rGenerating predictions:  34%|███▎      | 121/360 [06:35<14:23,  3.62s/it]\rGenerating predictions:  34%|███▍      | 122/360 [06:38<13:13,  3.34s/it]\rGenerating predictions:  34%|███▍      | 123/360 [06:40<12:10,  3.08s/it]\rGenerating predictions:  34%|███▍      | 124/360 [06:43<12:12,  3.10s/it]\rGenerating predictions:  35%|███▍      | 125/360 [06:46<11:25,  2.92s/it]\rGenerating predictions:  35%|███▌      | 126/360 [06:48<10:39,  2.73s/it]\rGenerating predictions:  35%|███▌      | 127/360 [06:50<10:07,  2.61s/it]\rGenerating predictions:  36%|███▌      | 128/360 [06:54<11:02,  2.85s/it]\rGenerating predictions:  36%|███▌      | 129/360 [06:57<11:22,  2.95s/it]\rGenerating predictions:  36%|███▌      | 130/360 [07:01<12:33,  3.28s/it]\rGenerating predictions:  36%|███▋      | 131/360 [07:05<13:41,  3.59s/it]\rGenerating predictions:  37%|███▋      | 132/360 [07:08<11:55,  3.14s/it]\rGenerating predictions:  37%|███▋      | 133/360 [07:11<12:41,  3.36s/it]\rGenerating predictions:  37%|███▋      | 134/360 [07:15<12:36,  3.35s/it]\rGenerating predictions:  38%|███▊      | 135/360 [07:18<13:01,  3.47s/it]\rGenerating predictions:  38%|███▊      | 136/360 [07:22<12:43,  3.41s/it]\rGenerating predictions:  38%|███▊      | 137/360 [07:28<15:25,  4.15s/it]\rGenerating predictions:  38%|███▊      | 138/360 [07:32<15:26,  4.17s/it]\rGenerating predictions:  39%|███▊      | 139/360 [07:37<16:29,  4.48s/it]\rGenerating predictions:  39%|███▉      | 140/360 [07:40<14:32,  3.96s/it]\rGenerating predictions:  39%|███▉      | 141/360 [07:43<13:53,  3.81s/it]\rGenerating predictions:  39%|███▉      | 142/360 [07:46<12:46,  3.52s/it]\rGenerating predictions:  40%|███▉      | 143/360 [07:50<12:39,  3.50s/it]\rGenerating predictions:  40%|████      | 144/360 [07:53<12:20,  3.43s/it]\rGenerating predictions:  40%|████      | 145/360 [07:56<12:10,  3.40s/it]\rGenerating predictions:  41%|████      | 146/360 [07:58<10:57,  3.07s/it]\rGenerating predictions:  41%|████      | 147/360 [08:04<13:12,  3.72s/it]\rGenerating predictions:  41%|████      | 148/360 [08:08<14:02,  3.97s/it]\rGenerating predictions:  41%|████▏     | 149/360 [08:11<12:59,  3.69s/it]\rGenerating predictions:  42%|████▏     | 150/360 [08:14<12:03,  3.45s/it]\rGenerating predictions:  42%|████▏     | 151/360 [08:17<11:47,  3.38s/it]\rGenerating predictions:  42%|████▏     | 152/360 [08:20<11:08,  3.22s/it]\rGenerating predictions:  42%|████▎     | 153/360 [08:23<10:30,  3.05s/it]\rGenerating predictions:  43%|████▎     | 154/360 [08:27<11:28,  3.34s/it]\rGenerating predictions:  43%|████▎     | 155/360 [08:31<11:45,  3.44s/it]\rGenerating predictions:  43%|████▎     | 156/360 [08:33<10:54,  3.21s/it]\rGenerating predictions:  44%|████▎     | 157/360 [08:36<10:46,  3.19s/it]\rGenerating predictions:  44%|████▍     | 158/360 [08:41<12:09,  3.61s/it]\rGenerating predictions:  44%|████▍     | 159/360 [08:44<11:20,  3.38s/it]\rGenerating predictions:  44%|████▍     | 160/360 [08:49<12:43,  3.82s/it]\rGenerating predictions:  45%|████▍     | 161/360 [08:51<11:22,  3.43s/it]\rGenerating predictions:  45%|████▌     | 162/360 [08:55<12:10,  3.69s/it]\rGenerating predictions:  45%|████▌     | 163/360 [09:00<12:51,  3.92s/it]\rGenerating predictions:  46%|████▌     | 164/360 [09:05<13:41,  4.19s/it]\rGenerating predictions:  46%|████▌     | 165/360 [09:08<12:33,  3.86s/it]\rGenerating predictions:  46%|████▌     | 166/360 [09:11<11:30,  3.56s/it]\rGenerating predictions:  46%|████▋     | 167/360 [09:13<10:38,  3.31s/it]\rGenerating predictions:  47%|████▋     | 168/360 [09:17<10:37,  3.32s/it]\rGenerating predictions:  47%|████▋     | 169/360 [09:20<10:41,  3.36s/it]\rGenerating predictions:  47%|████▋     | 170/360 [09:23<10:19,  3.26s/it]\rGenerating predictions:  48%|████▊     | 171/360 [09:26<09:55,  3.15s/it]\rGenerating predictions:  48%|████▊     | 172/360 [09:30<10:16,  3.28s/it]\rGenerating predictions:  48%|████▊     | 173/360 [09:32<09:43,  3.12s/it]\rGenerating predictions:  48%|████▊     | 174/360 [09:36<10:26,  3.37s/it]\rGenerating predictions:  49%|████▊     | 175/360 [09:42<12:10,  3.95s/it]\rGenerating predictions:  49%|████▉     | 176/360 [09:45<11:39,  3.80s/it]\rGenerating predictions:  49%|████▉     | 177/360 [09:49<11:19,  3.71s/it]\rGenerating predictions:  49%|████▉     | 178/360 [09:54<12:23,  4.09s/it]\rGenerating predictions:  50%|████▉     | 179/360 [09:57<11:33,  3.83s/it]\rGenerating predictions:  50%|█████     | 180/360 [10:00<11:13,  3.74s/it]\rGenerating predictions:  50%|█████     | 181/360 [10:05<11:34,  3.88s/it]\rGenerating predictions:  51%|█████     | 182/360 [10:07<10:27,  3.52s/it]\rGenerating predictions:  51%|█████     | 183/360 [10:10<09:41,  3.29s/it]\rGenerating predictions:  51%|█████     | 184/360 [10:13<09:34,  3.26s/it]\rGenerating predictions:  51%|█████▏    | 185/360 [10:16<08:56,  3.07s/it]\rGenerating predictions:  52%|█████▏    | 186/360 [10:20<10:00,  3.45s/it]\rGenerating predictions:  52%|█████▏    | 187/360 [10:24<09:51,  3.42s/it]\rGenerating predictions:  52%|█████▏    | 188/360 [10:27<09:41,  3.38s/it]\rGenerating predictions:  52%|█████▎    | 189/360 [10:29<08:53,  3.12s/it]\rGenerating predictions:  53%|█████▎    | 190/360 [10:33<08:58,  3.17s/it]\rGenerating predictions:  53%|█████▎    | 191/360 [10:38<10:58,  3.90s/it]\rGenerating predictions:  53%|█████▎    | 192/360 [10:41<10:16,  3.67s/it]\rGenerating predictions:  54%|█████▎    | 193/360 [10:44<09:09,  3.29s/it]\rGenerating predictions:  54%|█████▍    | 194/360 [10:47<09:05,  3.29s/it]\rGenerating predictions:  54%|█████▍    | 195/360 [10:50<08:56,  3.25s/it]\rGenerating predictions:  54%|█████▍    | 196/360 [10:53<08:44,  3.20s/it]\rGenerating predictions:  55%|█████▍    | 197/360 [10:57<08:42,  3.21s/it]\rGenerating predictions:  55%|█████▌    | 198/360 [11:00<08:36,  3.19s/it]\rGenerating predictions:  55%|█████▌    | 199/360 [11:03<08:29,  3.16s/it]\rGenerating predictions:  56%|█████▌    | 200/360 [11:06<08:49,  3.31s/it]\rGenerating predictions:  56%|█████▌    | 201/360 [11:10<08:57,  3.38s/it]\rGenerating predictions:  56%|█████▌    | 202/360 [11:12<08:13,  3.13s/it]\rGenerating predictions:  56%|█████▋    | 203/360 [11:16<08:37,  3.30s/it]\rGenerating predictions:  57%|█████▋    | 204/360 [11:19<08:03,  3.10s/it]\rGenerating predictions:  57%|█████▋    | 205/360 [11:22<07:46,  3.01s/it]\rGenerating predictions:  57%|█████▋    | 206/360 [11:25<08:14,  3.21s/it]\rGenerating predictions:  57%|█████▊    | 207/360 [11:28<07:42,  3.02s/it]\rGenerating predictions:  58%|█████▊    | 208/360 [11:32<08:08,  3.21s/it]\rGenerating predictions:  58%|█████▊    | 209/360 [11:36<08:54,  3.54s/it]\rGenerating predictions:  58%|█████▊    | 210/360 [11:39<08:44,  3.49s/it]\rGenerating predictions:  59%|█████▊    | 211/360 [11:43<09:07,  3.67s/it]\rGenerating predictions:  59%|█████▉    | 212/360 [11:47<09:03,  3.67s/it]\rGenerating predictions:  59%|█████▉    | 213/360 [11:51<08:53,  3.63s/it]\rGenerating predictions:  59%|█████▉    | 214/360 [11:53<08:19,  3.42s/it]\rGenerating predictions:  60%|█████▉    | 215/360 [11:57<08:28,  3.51s/it]\rGenerating predictions:  60%|██████    | 216/360 [12:00<08:07,  3.38s/it]\rGenerating predictions:  60%|██████    | 217/360 [12:03<07:43,  3.24s/it]\rGenerating predictions:  61%|██████    | 218/360 [12:06<07:06,  3.00s/it]\rGenerating predictions:  61%|██████    | 219/360 [12:09<07:19,  3.12s/it]\rGenerating predictions:  61%|██████    | 220/360 [12:13<08:11,  3.51s/it]\rGenerating predictions:  61%|██████▏   | 221/360 [12:17<08:07,  3.51s/it]\rGenerating predictions:  62%|██████▏   | 222/360 [12:21<08:07,  3.53s/it]\rGenerating predictions:  62%|██████▏   | 223/360 [12:25<08:38,  3.78s/it]\rGenerating predictions:  62%|██████▏   | 224/360 [12:29<08:36,  3.80s/it]\rGenerating predictions:  62%|██████▎   | 225/360 [12:34<09:39,  4.29s/it]\rGenerating predictions:  63%|██████▎   | 226/360 [12:37<08:39,  3.88s/it]\rGenerating predictions:  63%|██████▎   | 227/360 [12:42<09:02,  4.08s/it]\rGenerating predictions:  63%|██████▎   | 228/360 [12:45<08:49,  4.01s/it]\rGenerating predictions:  64%|██████▎   | 229/360 [12:49<08:21,  3.83s/it]\rGenerating predictions:  64%|██████▍   | 230/360 [12:52<08:05,  3.73s/it]\rGenerating predictions:  64%|██████▍   | 231/360 [12:56<08:13,  3.83s/it]\rGenerating predictions:  64%|██████▍   | 232/360 [13:00<07:47,  3.65s/it]\rGenerating predictions:  65%|██████▍   | 233/360 [13:02<06:51,  3.24s/it]\rGenerating predictions:  65%|██████▌   | 234/360 [13:05<06:35,  3.14s/it]\rGenerating predictions:  65%|██████▌   | 235/360 [13:08<06:28,  3.11s/it]\rGenerating predictions:  66%|██████▌   | 236/360 [13:12<07:12,  3.49s/it]\rGenerating predictions:  66%|██████▌   | 237/360 [13:16<07:07,  3.48s/it]\rGenerating predictions:  66%|██████▌   | 238/360 [13:18<06:36,  3.25s/it]\rGenerating predictions:  66%|██████▋   | 239/360 [13:24<07:47,  3.86s/it]\rGenerating predictions:  67%|██████▋   | 240/360 [13:27<07:27,  3.73s/it]\rGenerating predictions:  67%|██████▋   | 241/360 [13:30<06:53,  3.47s/it]\rGenerating predictions:  67%|██████▋   | 242/360 [13:33<06:21,  3.23s/it]\rGenerating predictions:  68%|██████▊   | 243/360 [13:37<06:48,  3.49s/it]\rGenerating predictions:  68%|██████▊   | 244/360 [13:41<06:58,  3.61s/it]\rGenerating predictions:  68%|██████▊   | 245/360 [13:43<06:27,  3.37s/it]\rGenerating predictions:  68%|██████▊   | 246/360 [13:46<05:51,  3.08s/it]\rGenerating predictions:  69%|██████▊   | 247/360 [13:49<05:46,  3.06s/it]\rGenerating predictions:  69%|██████▉   | 248/360 [13:51<05:12,  2.79s/it]\rGenerating predictions:  69%|██████▉   | 249/360 [13:55<05:46,  3.12s/it]\rGenerating predictions:  69%|██████▉   | 250/360 [13:59<06:02,  3.29s/it]\rGenerating predictions:  70%|██████▉   | 251/360 [14:02<05:50,  3.22s/it]\rGenerating predictions:  70%|███████   | 252/360 [14:06<06:18,  3.51s/it]\rGenerating predictions:  70%|███████   | 253/360 [14:10<06:47,  3.81s/it]\rGenerating predictions:  71%|███████   | 254/360 [14:15<07:10,  4.06s/it]\rGenerating predictions:  71%|███████   | 255/360 [14:19<07:11,  4.11s/it]\rGenerating predictions:  71%|███████   | 256/360 [14:22<06:20,  3.66s/it]\rGenerating predictions:  71%|███████▏  | 257/360 [14:24<05:34,  3.24s/it]\rGenerating predictions:  72%|███████▏  | 258/360 [14:27<05:22,  3.16s/it]\rGenerating predictions:  72%|███████▏  | 259/360 [14:30<05:24,  3.21s/it]\rGenerating predictions:  72%|███████▏  | 260/360 [14:34<05:19,  3.20s/it]\rGenerating predictions:  72%|███████▎  | 261/360 [14:36<04:58,  3.01s/it]\rGenerating predictions:  73%|███████▎  | 262/360 [14:39<04:57,  3.04s/it]\rGenerating predictions:  73%|███████▎  | 263/360 [14:43<04:59,  3.09s/it]\rGenerating predictions:  73%|███████▎  | 264/360 [14:45<04:51,  3.04s/it]\rGenerating predictions:  74%|███████▎  | 265/360 [14:51<05:47,  3.66s/it]\rGenerating predictions:  74%|███████▍  | 266/360 [14:54<05:27,  3.48s/it]\rGenerating predictions:  74%|███████▍  | 267/360 [14:56<05:04,  3.27s/it]\rGenerating predictions:  74%|███████▍  | 268/360 [14:59<04:36,  3.00s/it]\rGenerating predictions:  75%|███████▍  | 269/360 [15:06<06:15,  4.12s/it]\rGenerating predictions:  75%|███████▌  | 270/360 [15:08<05:33,  3.70s/it]\rGenerating predictions:  75%|███████▌  | 271/360 [15:12<05:27,  3.68s/it]\rGenerating predictions:  76%|███████▌  | 272/360 [15:15<05:03,  3.44s/it]\rGenerating predictions:  76%|███████▌  | 273/360 [15:19<05:12,  3.59s/it]\rGenerating predictions:  76%|███████▌  | 274/360 [15:21<04:48,  3.35s/it]\rGenerating predictions:  76%|███████▋  | 275/360 [15:26<05:26,  3.84s/it]\rGenerating predictions:  77%|███████▋  | 276/360 [15:30<05:25,  3.87s/it]\rGenerating predictions:  77%|███████▋  | 277/360 [15:35<05:41,  4.12s/it]\rGenerating predictions:  77%|███████▋  | 278/360 [15:38<04:57,  3.63s/it]\rGenerating predictions:  78%|███████▊  | 279/360 [15:40<04:31,  3.36s/it]\rGenerating predictions:  78%|███████▊  | 280/360 [15:43<04:03,  3.05s/it]\rGenerating predictions:  78%|███████▊  | 281/360 [15:46<04:07,  3.13s/it]\rGenerating predictions:  78%|███████▊  | 282/360 [15:48<03:49,  2.94s/it]\rGenerating predictions:  79%|███████▊  | 283/360 [15:51<03:48,  2.97s/it]\rGenerating predictions:  79%|███████▉  | 284/360 [15:54<03:30,  2.77s/it]\rGenerating predictions:  79%|███████▉  | 285/360 [15:57<03:45,  3.01s/it]\rGenerating predictions:  79%|███████▉  | 286/360 [16:00<03:43,  3.02s/it]\rGenerating predictions:  80%|███████▉  | 287/360 [16:03<03:22,  2.77s/it]\rGenerating predictions:  80%|████████  | 288/360 [16:06<03:32,  2.96s/it]\rGenerating predictions:  80%|████████  | 289/360 [16:09<03:32,  3.00s/it]\rGenerating predictions:  81%|████████  | 290/360 [16:12<03:20,  2.86s/it]\rGenerating predictions:  81%|████████  | 291/360 [16:15<03:27,  3.01s/it]\rGenerating predictions:  81%|████████  | 292/360 [16:18<03:19,  2.93s/it]\rGenerating predictions:  81%|████████▏ | 293/360 [16:21<03:26,  3.08s/it]\rGenerating predictions:  82%|████████▏ | 294/360 [16:24<03:26,  3.13s/it]\rGenerating predictions:  82%|████████▏ | 295/360 [16:27<03:18,  3.06s/it]\rGenerating predictions:  82%|████████▏ | 296/360 [16:30<03:17,  3.08s/it]\rGenerating predictions:  82%|████████▎ | 297/360 [16:34<03:15,  3.10s/it]\rGenerating predictions:  83%|████████▎ | 298/360 [16:37<03:12,  3.10s/it]\rGenerating predictions:  83%|████████▎ | 299/360 [16:39<02:55,  2.87s/it]\rGenerating predictions:  83%|████████▎ | 300/360 [16:43<03:18,  3.31s/it]\rGenerating predictions:  84%|████████▎ | 301/360 [16:46<03:06,  3.15s/it]\rGenerating predictions:  84%|████████▍ | 302/360 [16:49<03:02,  3.14s/it]\rGenerating predictions:  84%|████████▍ | 303/360 [16:58<04:41,  4.93s/it]\rGenerating predictions:  84%|████████▍ | 304/360 [17:03<04:34,  4.90s/it]\rGenerating predictions:  85%|████████▍ | 305/360 [17:08<04:34,  4.99s/it]\rGenerating predictions:  85%|████████▌ | 306/360 [17:11<03:56,  4.38s/it]\rGenerating predictions:  85%|████████▌ | 307/360 [17:14<03:22,  3.82s/it]\rGenerating predictions:  86%|████████▌ | 308/360 [17:19<03:34,  4.13s/it]\rGenerating predictions:  86%|████████▌ | 309/360 [17:21<03:08,  3.69s/it]\rGenerating predictions:  86%|████████▌ | 310/360 [17:24<02:49,  3.39s/it]\rGenerating predictions:  86%|████████▋ | 311/360 [17:28<02:51,  3.50s/it]\rGenerating predictions:  87%|████████▋ | 312/360 [17:32<03:00,  3.76s/it]\rGenerating predictions:  87%|████████▋ | 313/360 [17:37<03:12,  4.09s/it]\rGenerating predictions:  87%|████████▋ | 314/360 [17:41<03:05,  4.03s/it]\rGenerating predictions:  88%|████████▊ | 315/360 [17:45<03:03,  4.08s/it]\rGenerating predictions:  88%|████████▊ | 316/360 [17:49<02:57,  4.03s/it]\rGenerating predictions:  88%|████████▊ | 317/360 [17:53<02:49,  3.94s/it]\rGenerating predictions:  88%|████████▊ | 318/360 [17:55<02:29,  3.56s/it]\rGenerating predictions:  89%|████████▊ | 319/360 [17:58<02:07,  3.12s/it]\rGenerating predictions:  89%|████████▉ | 320/360 [18:02<02:22,  3.57s/it]\rGenerating predictions:  89%|████████▉ | 321/360 [18:05<02:07,  3.26s/it]\rGenerating predictions:  89%|████████▉ | 322/360 [18:10<02:30,  3.95s/it]\rGenerating predictions:  90%|████████▉ | 323/360 [18:13<02:12,  3.59s/it]\rGenerating predictions:  90%|█████████ | 324/360 [18:15<01:56,  3.24s/it]\rGenerating predictions:  90%|█████████ | 325/360 [18:19<01:59,  3.41s/it]\rGenerating predictions:  91%|█████████ | 326/360 [18:22<01:49,  3.21s/it]\rGenerating predictions:  91%|█████████ | 327/360 [18:26<01:51,  3.39s/it]\rGenerating predictions:  91%|█████████ | 328/360 [18:28<01:36,  3.02s/it]\rGenerating predictions:  91%|█████████▏| 329/360 [18:31<01:36,  3.13s/it]\rGenerating predictions:  92%|█████████▏| 330/360 [18:34<01:33,  3.12s/it]\rGenerating predictions:  92%|█████████▏| 331/360 [18:38<01:31,  3.16s/it]\rGenerating predictions:  92%|█████████▏| 332/360 [18:41<01:26,  3.08s/it]\rGenerating predictions:  92%|█████████▎| 333/360 [18:44<01:24,  3.14s/it]\rGenerating predictions:  93%|█████████▎| 334/360 [18:47<01:18,  3.03s/it]\rGenerating predictions:  93%|█████████▎| 335/360 [18:50<01:21,  3.26s/it]\rGenerating predictions:  93%|█████████▎| 336/360 [18:53<01:12,  3.02s/it]\rGenerating predictions:  94%|█████████▎| 337/360 [18:56<01:10,  3.06s/it]\rGenerating predictions:  94%|█████████▍| 338/360 [18:59<01:07,  3.08s/it]\rGenerating predictions:  94%|█████████▍| 339/360 [19:02<01:02,  2.98s/it]\rGenerating predictions:  94%|█████████▍| 340/360 [19:07<01:11,  3.56s/it]\rGenerating predictions:  95%|█████████▍| 341/360 [19:10<01:05,  3.43s/it]\rGenerating predictions:  95%|█████████▌| 342/360 [19:13<00:59,  3.29s/it]\rGenerating predictions:  95%|█████████▌| 343/360 [19:16<00:53,  3.16s/it]\rGenerating predictions:  96%|█████████▌| 344/360 [19:23<01:08,  4.30s/it]\rGenerating predictions:  96%|█████████▌| 345/360 [19:25<00:57,  3.84s/it]\rGenerating predictions:  96%|█████████▌| 346/360 [19:29<00:52,  3.74s/it]\rGenerating predictions:  96%|█████████▋| 347/360 [19:32<00:43,  3.37s/it]\rGenerating predictions:  97%|█████████▋| 348/360 [19:34<00:38,  3.18s/it]\rGenerating predictions:  97%|█████████▋| 349/360 [19:37<00:33,  3.02s/it]\rGenerating predictions:  97%|█████████▋| 350/360 [19:40<00:29,  2.94s/it]\rGenerating predictions:  98%|█████████▊| 351/360 [19:43<00:26,  3.00s/it]\rGenerating predictions:  98%|█████████▊| 352/360 [19:45<00:22,  2.76s/it]\rGenerating predictions:  98%|█████████▊| 353/360 [19:49<00:21,  3.09s/it]\rGenerating predictions:  98%|█████████▊| 354/360 [19:53<00:20,  3.43s/it]\rGenerating predictions:  99%|█████████▊| 355/360 [19:56<00:16,  3.32s/it]\rGenerating predictions:  99%|█████████▉| 356/360 [20:00<00:13,  3.50s/it]\rGenerating predictions:  99%|█████████▉| 357/360 [20:04<00:11,  3.68s/it]\rGenerating predictions:  99%|█████████▉| 358/360 [20:06<00:06,  3.25s/it]\rGenerating predictions: 100%|█████████▉| 359/360 [20:13<00:04,  4.34s/it]\rGenerating predictions: 100%|██████████| 360/360 [20:17<00:00,  4.03s/it]\rGenerating predictions: 100%|██████████| 360/360 [20:17<00:00,  3.38s/it]\n"
     ]
    },
    {
     "data": {
      "text/html": [
       "<div>\n",
       "<style scoped>\n",
       "    .dataframe tbody tr th:only-of-type {\n",
       "        vertical-align: middle;\n",
       "    }\n",
       "\n",
       "    .dataframe tbody tr th {\n",
       "        vertical-align: top;\n",
       "    }\n",
       "\n",
       "    .dataframe thead th {\n",
       "        text-align: right;\n",
       "    }\n",
       "</style>\n",
       "<table border=\"1\" class=\"dataframe\">\n",
       "  <thead>\n",
       "    <tr style=\"text-align: right;\">\n",
       "      <th></th>\n",
       "      <th>inst_id</th>\n",
       "      <th>text</th>\n",
       "      <th>labels</th>\n",
       "      <th>explanations</th>\n",
       "      <th>predictions</th>\n",
       "    </tr>\n",
       "  </thead>\n",
       "  <tbody>\n",
       "    <tr>\n",
       "      <th>0</th>\n",
       "      <td>1</td>\n",
       "      <td>You take things that don't belong to you.</td>\n",
       "      <td>ABUSE</td>\n",
       "      <td>This sentence is labeled as abuse because it d...</td>\n",
       "      <td>ABUSE</td>\n",
       "    </tr>\n",
       "    <tr>\n",
       "      <th>1</th>\n",
       "      <td>2</td>\n",
       "      <td>I take it you don't want to be characterised i...</td>\n",
       "      <td>NONE ABUSE</td>\n",
       "      <td>This sentence is labeled as not abusive becaus...</td>\n",
       "      <td>NONE ABUSE</td>\n",
       "    </tr>\n",
       "    <tr>\n",
       "      <th>2</th>\n",
       "      <td>3</td>\n",
       "      <td>You are so imaginative at what could go wrong.</td>\n",
       "      <td>NONE ABUSE</td>\n",
       "      <td>This sentence is labeled as not abusive becaus...</td>\n",
       "      <td>NONE ABUSE</td>\n",
       "    </tr>\n",
       "    <tr>\n",
       "      <th>3</th>\n",
       "      <td>4</td>\n",
       "      <td>You need to act your age.</td>\n",
       "      <td>ABUSE</td>\n",
       "      <td>This sentence is labeled as abuse because it u...</td>\n",
       "      <td>ABUSE</td>\n",
       "    </tr>\n",
       "    <tr>\n",
       "      <th>4</th>\n",
       "      <td>5</td>\n",
       "      <td>I think you might be challenged vertically.</td>\n",
       "      <td>ABUSE</td>\n",
       "      <td>This sentence is labeled as abuse because it u...</td>\n",
       "      <td>ABUSE</td>\n",
       "    </tr>\n",
       "    <tr>\n",
       "      <th>...</th>\n",
       "      <td>...</td>\n",
       "      <td>...</td>\n",
       "      <td>...</td>\n",
       "      <td>...</td>\n",
       "      <td>...</td>\n",
       "    </tr>\n",
       "    <tr>\n",
       "      <th>355</th>\n",
       "      <td>356</td>\n",
       "      <td>You really carry on talking, regardless of the...</td>\n",
       "      <td>NONE ABUSE</td>\n",
       "      <td>This sentence is labeled as abuse because it s...</td>\n",
       "      <td>ABUSE</td>\n",
       "    </tr>\n",
       "    <tr>\n",
       "      <th>356</th>\n",
       "      <td>357</td>\n",
       "      <td>You are the reason I have decided to spend mor...</td>\n",
       "      <td>NONE ABUSE</td>\n",
       "      <td>This sentence is labeled as not abusive becaus...</td>\n",
       "      <td>NONE ABUSE</td>\n",
       "    </tr>\n",
       "    <tr>\n",
       "      <th>357</th>\n",
       "      <td>358</td>\n",
       "      <td>You have always given me amazing vibes.</td>\n",
       "      <td>NONE ABUSE</td>\n",
       "      <td>This sentence is labeled as not abusive becaus...</td>\n",
       "      <td>NONE ABUSE</td>\n",
       "    </tr>\n",
       "    <tr>\n",
       "      <th>358</th>\n",
       "      <td>359</td>\n",
       "      <td>It's great that no one notices you when you sh...</td>\n",
       "      <td>NONE ABUSE</td>\n",
       "      <td>This sentence is labeled as abuse because it s...</td>\n",
       "      <td>ABUSE</td>\n",
       "    </tr>\n",
       "    <tr>\n",
       "      <th>359</th>\n",
       "      <td>360</td>\n",
       "      <td>You could be funny sometimes.</td>\n",
       "      <td>ABUSE</td>\n",
       "      <td>This sentence is labeled as not abusive becaus...</td>\n",
       "      <td>NONE ABUSE</td>\n",
       "    </tr>\n",
       "  </tbody>\n",
       "</table>\n",
       "<p>360 rows × 5 columns</p>\n",
       "</div>"
      ],
      "text/plain": [
       "     inst_id                                               text      labels  \\\n",
       "0          1          You take things that don't belong to you.       ABUSE   \n",
       "1          2  I take it you don't want to be characterised i...  NONE ABUSE   \n",
       "2          3     You are so imaginative at what could go wrong.  NONE ABUSE   \n",
       "3          4                          You need to act your age.       ABUSE   \n",
       "4          5        I think you might be challenged vertically.       ABUSE   \n",
       "..       ...                                                ...         ...   \n",
       "355      356  You really carry on talking, regardless of the...  NONE ABUSE   \n",
       "356      357  You are the reason I have decided to spend mor...  NONE ABUSE   \n",
       "357      358            You have always given me amazing vibes.  NONE ABUSE   \n",
       "358      359  It's great that no one notices you when you sh...  NONE ABUSE   \n",
       "359      360                      You could be funny sometimes.       ABUSE   \n",
       "\n",
       "                                          explanations predictions  \n",
       "0    This sentence is labeled as abuse because it d...       ABUSE  \n",
       "1    This sentence is labeled as not abusive becaus...  NONE ABUSE  \n",
       "2    This sentence is labeled as not abusive becaus...  NONE ABUSE  \n",
       "3    This sentence is labeled as abuse because it u...       ABUSE  \n",
       "4    This sentence is labeled as abuse because it u...       ABUSE  \n",
       "..                                                 ...         ...  \n",
       "355  This sentence is labeled as abuse because it s...       ABUSE  \n",
       "356  This sentence is labeled as not abusive becaus...  NONE ABUSE  \n",
       "357  This sentence is labeled as not abusive becaus...  NONE ABUSE  \n",
       "358  This sentence is labeled as abuse because it s...       ABUSE  \n",
       "359  This sentence is labeled as not abusive becaus...  NONE ABUSE  \n",
       "\n",
       "[360 rows x 5 columns]"
      ]
     },
     "metadata": {},
     "output_type": "display_data"
    }
   ],
   "source": [
    "generate_data(dataset_csv, examples_file, output_csv)"
   ]
  },
  {
   "cell_type": "code",
   "execution_count": 26,
   "metadata": {},
   "outputs": [
    {
     "name": "stdout",
     "output_type": "stream",
     "text": [
      "Evaluation Metrics:\n",
      "Precision: 0.8366\n",
      "Recall: 0.8361\n",
      "F1 Score: 0.8358\n"
     ]
    },
    {
     "name": "stderr",
     "output_type": "stream",
     "text": [
      "/home/longju/.local/lib/python3.10/site-packages/sklearn/metrics/_classification.py:1344: UndefinedMetricWarning: Recall and F-score are ill-defined and being set to 0.0 in labels with no true samples. Use `zero_division` parameter to control this behavior.\n",
      "  _warn_prf(average, modifier, msg_start, len(result))\n",
      "/home/longju/.local/lib/python3.10/site-packages/sklearn/metrics/_classification.py:1344: UndefinedMetricWarning: Recall and F-score are ill-defined and being set to 0.0 in labels with no true samples. Use `zero_division` parameter to control this behavior.\n",
      "  _warn_prf(average, modifier, msg_start, len(result))\n",
      "/home/longju/.local/lib/python3.10/site-packages/sklearn/metrics/_classification.py:1344: UndefinedMetricWarning: Recall and F-score are ill-defined and being set to 0.0 in labels with no true samples. Use `zero_division` parameter to control this behavior.\n",
      "  _warn_prf(average, modifier, msg_start, len(result))\n"
     ]
    }
   ],
   "source": [
    "from sklearn.metrics import classification_report\n",
    "\n",
    "def evaluate(predictions_path):\n",
    "    # Load the predictions dataframe\n",
    "    predictions_df = pd.read_csv(predictions_path)\n",
    "    \n",
    "    # Extract true labels and predicted labels\n",
    "    true_labels = predictions_df['labels']\n",
    "    predicted_labels = predictions_df['predictions']\n",
    "    \n",
    "    # Generate classification report\n",
    "    report = classification_report(true_labels, predicted_labels, output_dict=True)\n",
    "    \n",
    "    # Extract precision, recall, and F1 score for each class\n",
    "    precision = report['weighted avg']['precision']\n",
    "    recall = report['weighted avg']['recall']\n",
    "    f1_score = report['weighted avg']['f1-score']\n",
    "    \n",
    "    # Print evaluation metrics\n",
    "    print(\"Evaluation Metrics:\")\n",
    "    print(f\"Precision: {precision:.4f}\")\n",
    "    print(f\"Recall: {recall:.4f}\")\n",
    "    print(f\"F1 Score: {f1_score:.4f}\")\n",
    "\n",
    "evaluate(output_csv)"
   ]
  }
 ],
 "metadata": {
  "kernelspec": {
   "display_name": "llava",
   "language": "python",
   "name": "python3"
  },
  "language_info": {
   "codemirror_mode": {
    "name": "ipython",
    "version": 3
   },
   "file_extension": ".py",
   "mimetype": "text/x-python",
   "name": "python",
   "nbconvert_exporter": "python",
   "pygments_lexer": "ipython3",
   "version": "3.10.14 (main, Mar 21 2024, 16:24:04) [GCC 11.2.0]"
  },
  "orig_nbformat": 4,
  "vscode": {
   "interpreter": {
    "hash": "63a59f273878d21d9c11a68929f8708312fda201dd9668999f076f8cf65bfd79"
   }
  }
 },
 "nbformat": 4,
 "nbformat_minor": 2
}
