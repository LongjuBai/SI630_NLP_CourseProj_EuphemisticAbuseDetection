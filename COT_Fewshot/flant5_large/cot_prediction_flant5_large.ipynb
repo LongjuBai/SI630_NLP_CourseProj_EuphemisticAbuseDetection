{
 "cells": [
  {
   "cell_type": "code",
   "execution_count": 1,
   "metadata": {},
   "outputs": [],
   "source": [
    "import pandas as pd\n",
    "from transformers import AutoModelForSeq2SeqLM, AutoTokenizer\n",
    "import os\n",
    "from tqdm import tqdm"
   ]
  },
  {
   "cell_type": "code",
   "execution_count": 2,
   "metadata": {},
   "outputs": [],
   "source": [
    "def setup_flan_t5():\n",
    "    device = \"cuda:0\"  # Change as needed based on your GPU setup\n",
    "    model_id = \"google/flan-t5-large\"\n",
    "    model = AutoModelForSeq2SeqLM.from_pretrained(model_id).to(device)  # Ensure the model is on GPU\n",
    "    tokenizer = AutoTokenizer.from_pretrained(model_id)\n",
    "    return model, tokenizer, device"
   ]
  },
  {
   "cell_type": "code",
   "execution_count": 3,
   "metadata": {},
   "outputs": [],
   "source": [
    "model, tokenizer, device = setup_flan_t5()\n",
    "\n"
   ]
  },
  {
   "cell_type": "code",
   "execution_count": 4,
   "metadata": {},
   "outputs": [
    {
     "name": "stdout",
     "output_type": "stream",
     "text": [
      "Toss the pasta with the sauce, then add the meat and toss again.\n"
     ]
    }
   ],
   "source": [
    "inputs = tokenizer(\"A step by step recipe to make bolognese pasta:\", return_tensors=\"pt\").to(device)\n",
    "outputs = model.generate(**inputs, max_length=120)\n",
    "print(tokenizer.batch_decode(outputs, skip_special_tokens=True)[0])"
   ]
  },
  {
   "cell_type": "code",
   "execution_count": 5,
   "metadata": {},
   "outputs": [
    {
     "name": "stdout",
     "output_type": "stream",
     "text": [
      "context learning\n"
     ]
    }
   ],
   "source": [
    "def get_completion(prompt):\n",
    "    inputs = tokenizer(prompt, return_tensors=\"pt\").to(device)\n",
    "    outputs = model.generate(**inputs, max_length=120)\n",
    "    return tokenizer.batch_decode(outputs, skip_special_tokens=True)[0]\n",
    "    \n",
    "# Example usage\n",
    "prompt = \"do you know incontext learning?\"\n",
    "output_sentence = get_completion(prompt)\n",
    "print(output_sentence if output_sentence else \"Prompt was skipped or an error occurred.\")\n",
    "\n",
    "\n",
    "# from openai import OpenAI\n",
    "# client = OpenAI()\n",
    "\n",
    "# completion = client.chat.completions.create(\n",
    "#   model=\"gpt-4-turbo-2024-04-09\",\n",
    "#   messages=[\n",
    "#     {\"role\": \"system\", \"content\": \"You are a helpful assistant.\"},\n",
    "#     {\"role\": \"user\", \"content\": \"Hello!\"}\n",
    "#   ]\n",
    "# )\n",
    "\n",
    "# print(completion.choices[0].message)"
   ]
  },
  {
   "cell_type": "code",
   "execution_count": 6,
   "metadata": {},
   "outputs": [],
   "source": [
    "def load_examples(file_path):\n",
    "    with open(file_path, 'r') as file:\n",
    "        examples = file.read().strip()\n",
    "    return examples"
   ]
  },
  {
   "cell_type": "code",
   "execution_count": 23,
   "metadata": {},
   "outputs": [],
   "source": [
    "# def generate_data(csv_input, csv_output, examples_file):\n",
    "#     # Load the examples for few-shot learning\n",
    "#     examples = load_examples(examples_file)\n",
    "#     # Load the CSV file\n",
    "#     goldstandard = pd.read_csv(csv_input)\n",
    "\n",
    "\n",
    "#     # ------------------------------test\n",
    "#     # goldstandard = goldstandard.head(5) \n",
    "\n",
    "    \n",
    "#     # Initialize the output DataFrame\n",
    "#     generated_data = []\n",
    "\n",
    "#     # Process each row in the DataFrame\n",
    "#     for idx, row in tqdm(goldstandard.iterrows(), total=goldstandard.shape[0], desc=\"Generating Data\"):\n",
    "#         prompt = f\"{examples}\\n\\n\" \\\n",
    "#                  f\"INSTRUCTION: Write a sentence with the semantic meaning the same as [{row['#CUE_COLUMN']}], \" \\\n",
    "#                  f\"use the template [{row['FRAGMENT_COLUMN']}], the sentence should be euphemistic not explicit, \" \\\n",
    "#                  f\"the sentence should be [{row['LABEL_COLUMN']}].\" \\\n",
    "#                  f\"\\n\\n OUTPUT:\"\n",
    "#         generated_sentence = get_completion(prompt)\n",
    "#         generated_data.append({\n",
    "#             '#CUE_COLUMN': row['#CUE_COLUMN'],\n",
    "#             'FRAGMENT_COLUMN': row['FRAGMENT_COLUMN'],\n",
    "#             'INSTANCE_COLUMN': generated_sentence,\n",
    "#             'LABEL_COLUMN': row['LABEL_COLUMN']\n",
    "#         })\n",
    "\n",
    "#     # Create a DataFrame from the generated data\n",
    "#     new_df = pd.DataFrame(generated_data)\n",
    "#     new_df.to_csv(output_csv, index=False)\n",
    "#     print(\"Data generation complete and saved to\", csv_output)\n",
    "\n",
    "\n",
    "\n",
    "def generate_data(dataset_csv, examples_file, output_csv):\n",
    "    # Read the dataset CSV\n",
    "    df = pd.read_csv(dataset_csv)\n",
    "    # df = df.head(5)\n",
    "\n",
    "    examples = load_examples(examples_file)\n",
    "    # Initialize lists to store explanations and predictions\n",
    "    \n",
    "    \n",
    "    explanations = []\n",
    "    predictions = []\n",
    "    \n",
    "    # Iterate over each row in the dataset\n",
    "    for index, row in tqdm(df.iterrows(), total=len(df), desc=\"Generating predictions\"):\n",
    "        # Extract the text from the row\n",
    "        text = row['text']\n",
    "        \n",
    "        # Generate the completion using the provided prompt and get_completion function\n",
    "        prompt = f\"{examples}\\n\\n\" \\\n",
    "                 f\"Please follow the INSTRUCTION and think step by step: given a SENTENCE, first output an explanation about whether you think the given SENTENCE is labeled as abuse, then output the label PREDICTION\\n\\nINSTRUCTION: Think step by step: given the following SENTENCE, first output an explanation about whether you think the given SENTENCE is labeled as abuse, then output the label PREDICTION\\nSENTENCE: {text}\\nEXPLANATION: \\nPREDICTION: \"\n",
    "        completion = get_completion(prompt)\n",
    "        \n",
    "        # Extract the explanation and prediction from the completion\n",
    "        explanation = completion.split(\"EXPLANATION: \")[-1].split(\"PREDICTION:\")[0].strip()\n",
    "        prediction = completion.split(\"PREDICTION:\")[-1].strip()\n",
    "\n",
    "        if prediction == \"NONE\":\n",
    "            prediction = \"NONE ABUSE\"\n",
    "        \n",
    "        # Append the explanation and prediction to their respective lists\n",
    "        explanations.append(explanation)\n",
    "        predictions.append(prediction)\n",
    "    \n",
    "    # Add explanations and predictions as columns to the DataFrame\n",
    "    df['explanations'] = explanations\n",
    "    df['predictions'] = predictions\n",
    "    display(df)\n",
    "    # Save the DataFrame with explanations and predictions\n",
    "    df.to_csv(output_csv, index=False)"
   ]
  },
  {
   "cell_type": "code",
   "execution_count": 24,
   "metadata": {},
   "outputs": [],
   "source": [
    "dataset_csv = '../../dataset/train_dev/test_set.csv'\n",
    "# output_csv = './flant5_large_cot_prediction_test.csv'\n",
    "output_csv = './flant5_large_cot_prediction.csv'\n",
    "examples_file = 'cot_FewShot_prompt.txt'"
   ]
  },
  {
   "cell_type": "code",
   "execution_count": 25,
   "metadata": {},
   "outputs": [
    {
     "name": "stderr",
     "output_type": "stream",
     "text": [
      "Generating predictions:   0%|          | 0/360 [00:00<?, ?it/s]\rGenerating predictions:   0%|          | 1/360 [00:00<01:28,  4.08it/s]\rGenerating predictions:   1%|          | 2/360 [00:00<01:23,  4.30it/s]\rGenerating predictions:   1%|          | 3/360 [00:00<01:21,  4.36it/s]\rGenerating predictions:   1%|          | 4/360 [00:00<01:21,  4.36it/s]\rGenerating predictions:   1%|▏         | 5/360 [00:01<01:20,  4.41it/s]\rGenerating predictions:   2%|▏         | 6/360 [00:01<01:19,  4.43it/s]\rGenerating predictions:   2%|▏         | 7/360 [00:01<01:22,  4.28it/s]\rGenerating predictions:   2%|▏         | 8/360 [00:01<01:21,  4.34it/s]\rGenerating predictions:   2%|▎         | 9/360 [00:02<01:26,  4.07it/s]\rGenerating predictions:   3%|▎         | 10/360 [00:02<01:23,  4.19it/s]\rGenerating predictions:   3%|▎         | 11/360 [00:02<01:21,  4.27it/s]\rGenerating predictions:   3%|▎         | 12/360 [00:02<01:20,  4.32it/s]\rGenerating predictions:   4%|▎         | 13/360 [00:03<01:19,  4.36it/s]\rGenerating predictions:   4%|▍         | 14/360 [00:03<01:18,  4.41it/s]\rGenerating predictions:   4%|▍         | 15/360 [00:03<01:47,  3.21it/s]\rGenerating predictions:   4%|▍         | 16/360 [00:03<01:38,  3.50it/s]\rGenerating predictions:   5%|▍         | 17/360 [00:04<01:31,  3.76it/s]\rGenerating predictions:   5%|▌         | 18/360 [00:04<01:28,  3.85it/s]\rGenerating predictions:   5%|▌         | 19/360 [00:04<01:24,  4.02it/s]\rGenerating predictions:   6%|▌         | 20/360 [00:04<01:21,  4.15it/s]\rGenerating predictions:   6%|▌         | 21/360 [00:05<01:19,  4.24it/s]\rGenerating predictions:   6%|▌         | 22/360 [00:05<01:18,  4.32it/s]\rGenerating predictions:   6%|▋         | 23/360 [00:05<01:17,  4.37it/s]\rGenerating predictions:   7%|▋         | 24/360 [00:05<01:20,  4.16it/s]\rGenerating predictions:   7%|▋         | 25/360 [00:06<01:19,  4.20it/s]\rGenerating predictions:   7%|▋         | 26/360 [00:06<01:18,  4.28it/s]\rGenerating predictions:   8%|▊         | 27/360 [00:06<01:16,  4.34it/s]\rGenerating predictions:   8%|▊         | 28/360 [00:06<01:15,  4.38it/s]\rGenerating predictions:   8%|▊         | 29/360 [00:06<01:15,  4.41it/s]\rGenerating predictions:   8%|▊         | 30/360 [00:07<01:14,  4.43it/s]\rGenerating predictions:   9%|▊         | 31/360 [00:07<01:16,  4.32it/s]\rGenerating predictions:   9%|▉         | 32/360 [00:07<01:15,  4.37it/s]\rGenerating predictions:   9%|▉         | 33/360 [00:07<01:14,  4.41it/s]\rGenerating predictions:   9%|▉         | 34/360 [00:08<01:15,  4.30it/s]\rGenerating predictions:  10%|▉         | 35/360 [00:08<01:14,  4.36it/s]\rGenerating predictions:  10%|█         | 36/360 [00:08<01:15,  4.27it/s]\rGenerating predictions:  10%|█         | 37/360 [00:08<01:14,  4.34it/s]\rGenerating predictions:  11%|█         | 38/360 [00:10<03:23,  1.58it/s]\rGenerating predictions:  11%|█         | 39/360 [00:10<02:43,  1.96it/s]\rGenerating predictions:  11%|█         | 40/360 [00:10<02:15,  2.36it/s]\rGenerating predictions:  11%|█▏        | 41/360 [00:11<01:58,  2.69it/s]\rGenerating predictions:  12%|█▏        | 42/360 [00:11<01:44,  3.04it/s]\rGenerating predictions:  12%|█▏        | 43/360 [00:11<01:34,  3.36it/s]\rGenerating predictions:  12%|█▏        | 44/360 [00:11<01:26,  3.63it/s]\rGenerating predictions:  12%|█▎        | 45/360 [00:11<01:24,  3.72it/s]\rGenerating predictions:  13%|█▎        | 46/360 [00:12<01:20,  3.92it/s]\rGenerating predictions:  13%|█▎        | 47/360 [00:12<01:16,  4.08it/s]\rGenerating predictions:  13%|█▎        | 48/360 [00:12<01:14,  4.19it/s]\rGenerating predictions:  14%|█▎        | 49/360 [00:12<01:12,  4.27it/s]\rGenerating predictions:  14%|█▍        | 50/360 [00:13<01:11,  4.33it/s]\rGenerating predictions:  14%|█▍        | 51/360 [00:13<01:14,  4.17it/s]\rGenerating predictions:  14%|█▍        | 52/360 [00:13<01:13,  4.20it/s]\rGenerating predictions:  15%|█▍        | 53/360 [00:13<01:13,  4.16it/s]\rGenerating predictions:  15%|█▌        | 54/360 [00:14<01:11,  4.25it/s]\rGenerating predictions:  15%|█▌        | 55/360 [00:14<01:10,  4.32it/s]\rGenerating predictions:  16%|█▌        | 56/360 [00:14<01:09,  4.37it/s]\rGenerating predictions:  16%|█▌        | 57/360 [00:14<01:10,  4.27it/s]\rGenerating predictions:  16%|█▌        | 58/360 [00:14<01:09,  4.33it/s]\rGenerating predictions:  16%|█▋        | 59/360 [00:15<01:10,  4.25it/s]\rGenerating predictions:  17%|█▋        | 60/360 [00:15<01:09,  4.32it/s]\rGenerating predictions:  17%|█▋        | 61/360 [00:15<01:08,  4.37it/s]\rGenerating predictions:  17%|█▋        | 62/360 [00:15<01:09,  4.26it/s]\rGenerating predictions:  18%|█▊        | 63/360 [00:16<01:08,  4.32it/s]\rGenerating predictions:  18%|█▊        | 64/360 [00:16<01:07,  4.37it/s]\rGenerating predictions:  18%|█▊        | 65/360 [00:16<01:06,  4.41it/s]\rGenerating predictions:  18%|█▊        | 66/360 [00:16<01:06,  4.42it/s]\rGenerating predictions:  19%|█▊        | 67/360 [00:18<02:59,  1.63it/s]\rGenerating predictions:  19%|█▉        | 68/360 [00:18<02:24,  2.02it/s]\rGenerating predictions:  19%|█▉        | 69/360 [00:18<02:00,  2.42it/s]\rGenerating predictions:  19%|█▉        | 70/360 [00:19<01:49,  2.66it/s]\rGenerating predictions:  20%|█▉        | 71/360 [00:19<01:35,  3.01it/s]\rGenerating predictions:  20%|██        | 72/360 [00:19<01:26,  3.33it/s]\rGenerating predictions:  20%|██        | 73/360 [00:19<01:19,  3.61it/s]\rGenerating predictions:  21%|██        | 74/360 [00:19<01:14,  3.83it/s]\rGenerating predictions:  21%|██        | 75/360 [00:20<01:11,  3.99it/s]\rGenerating predictions:  21%|██        | 76/360 [00:20<01:10,  4.01it/s]\rGenerating predictions:  21%|██▏       | 77/360 [00:20<01:10,  4.02it/s]\rGenerating predictions:  22%|██▏       | 78/360 [00:20<01:09,  4.03it/s]\rGenerating predictions:  22%|██▏       | 79/360 [00:21<01:12,  3.89it/s]\rGenerating predictions:  22%|██▏       | 80/360 [00:21<01:09,  4.01it/s]\rGenerating predictions:  22%|██▎       | 81/360 [00:21<01:07,  4.14it/s]\rGenerating predictions:  23%|██▎       | 82/360 [00:21<01:05,  4.24it/s]\rGenerating predictions:  23%|██▎       | 83/360 [00:22<01:04,  4.31it/s]\rGenerating predictions:  23%|██▎       | 84/360 [00:22<01:03,  4.36it/s]\rGenerating predictions:  24%|██▎       | 85/360 [00:22<01:02,  4.40it/s]\rGenerating predictions:  24%|██▍       | 86/360 [00:22<01:03,  4.29it/s]\rGenerating predictions:  24%|██▍       | 87/360 [00:23<01:02,  4.35it/s]\rGenerating predictions:  24%|██▍       | 88/360 [00:23<01:02,  4.38it/s]\rGenerating predictions:  25%|██▍       | 89/360 [00:23<01:01,  4.42it/s]\rGenerating predictions:  25%|██▌       | 90/360 [00:23<01:00,  4.45it/s]\rGenerating predictions:  25%|██▌       | 91/360 [00:23<01:02,  4.31it/s]\rGenerating predictions:  26%|██▌       | 92/360 [00:24<01:01,  4.35it/s]\rGenerating predictions:  26%|██▌       | 93/360 [00:24<01:00,  4.39it/s]\rGenerating predictions:  26%|██▌       | 94/360 [00:24<01:00,  4.38it/s]\rGenerating predictions:  26%|██▋       | 95/360 [00:24<01:01,  4.28it/s]\rGenerating predictions:  27%|██▋       | 96/360 [00:25<01:06,  3.97it/s]\rGenerating predictions:  27%|██▋       | 97/360 [00:25<01:04,  4.11it/s]\rGenerating predictions:  27%|██▋       | 98/360 [00:25<01:04,  4.09it/s]\rGenerating predictions:  28%|██▊       | 99/360 [00:25<01:03,  4.09it/s]\rGenerating predictions:  28%|██▊       | 100/360 [00:26<01:01,  4.20it/s]\rGenerating predictions:  28%|██▊       | 101/360 [00:26<01:00,  4.27it/s]\rGenerating predictions:  28%|██▊       | 102/360 [00:26<00:59,  4.33it/s]\rGenerating predictions:  29%|██▊       | 103/360 [00:26<00:58,  4.38it/s]\rGenerating predictions:  29%|██▉       | 104/360 [00:26<00:58,  4.41it/s]\rGenerating predictions:  29%|██▉       | 105/360 [00:27<00:57,  4.44it/s]\rGenerating predictions:  29%|██▉       | 106/360 [00:27<00:58,  4.32it/s]\rGenerating predictions:  30%|██▉       | 107/360 [00:27<00:57,  4.37it/s]\rGenerating predictions:  30%|███       | 108/360 [00:27<00:57,  4.40it/s]\rGenerating predictions:  30%|███       | 109/360 [00:28<00:56,  4.42it/s]\rGenerating predictions:  31%|███       | 110/360 [00:28<00:57,  4.31it/s]\rGenerating predictions:  31%|███       | 111/360 [00:29<02:26,  1.71it/s]\rGenerating predictions:  31%|███       | 112/360 [00:30<01:58,  2.09it/s]\rGenerating predictions:  31%|███▏      | 113/360 [00:30<01:39,  2.49it/s]\rGenerating predictions:  32%|███▏      | 114/360 [00:30<01:25,  2.87it/s]\rGenerating predictions:  32%|███▏      | 115/360 [00:30<01:17,  3.17it/s]\rGenerating predictions:  32%|███▏      | 116/360 [00:30<01:10,  3.47it/s]\rGenerating predictions:  32%|███▎      | 117/360 [00:31<01:06,  3.63it/s]\rGenerating predictions:  33%|███▎      | 118/360 [00:31<01:02,  3.85it/s]\rGenerating predictions:  33%|███▎      | 119/360 [00:31<01:00,  4.01it/s]\rGenerating predictions:  33%|███▎      | 120/360 [00:31<00:58,  4.13it/s]\rGenerating predictions:  34%|███▎      | 121/360 [00:32<00:56,  4.23it/s]\rGenerating predictions:  34%|███▍      | 122/360 [00:32<00:55,  4.31it/s]\rGenerating predictions:  34%|███▍      | 123/360 [00:32<00:54,  4.36it/s]\rGenerating predictions:  34%|███▍      | 124/360 [00:34<02:25,  1.62it/s]\rGenerating predictions:  35%|███▍      | 125/360 [00:34<02:01,  1.93it/s]\rGenerating predictions:  35%|███▌      | 126/360 [00:34<01:40,  2.33it/s]\rGenerating predictions:  35%|███▌      | 127/360 [00:34<01:25,  2.72it/s]\rGenerating predictions:  36%|███▌      | 128/360 [00:34<01:15,  3.08it/s]\rGenerating predictions:  36%|███▌      | 129/360 [00:35<01:07,  3.40it/s]\rGenerating predictions:  36%|███▌      | 130/360 [00:35<01:04,  3.58it/s]\rGenerating predictions:  36%|███▋      | 131/360 [00:35<01:00,  3.78it/s]\rGenerating predictions:  37%|███▋      | 132/360 [00:35<00:59,  3.81it/s]\rGenerating predictions:  37%|███▋      | 133/360 [00:36<00:58,  3.87it/s]\rGenerating predictions:  37%|███▋      | 134/360 [00:36<00:56,  4.03it/s]\rGenerating predictions:  38%|███▊      | 135/360 [00:36<00:56,  3.99it/s]\rGenerating predictions:  38%|███▊      | 136/360 [00:36<00:55,  4.03it/s]\rGenerating predictions:  38%|███▊      | 137/360 [00:37<00:53,  4.15it/s]\rGenerating predictions:  38%|███▊      | 138/360 [00:37<00:52,  4.25it/s]\rGenerating predictions:  39%|███▊      | 139/360 [00:37<00:51,  4.32it/s]\rGenerating predictions:  39%|███▉      | 140/360 [00:37<00:50,  4.37it/s]\rGenerating predictions:  39%|███▉      | 141/360 [00:38<00:49,  4.41it/s]\rGenerating predictions:  39%|███▉      | 142/360 [00:38<00:49,  4.43it/s]\rGenerating predictions:  40%|███▉      | 143/360 [00:38<00:50,  4.30it/s]\rGenerating predictions:  40%|████      | 144/360 [00:38<00:51,  4.22it/s]\rGenerating predictions:  40%|████      | 145/360 [00:38<00:50,  4.28it/s]\rGenerating predictions:  41%|████      | 146/360 [00:39<00:49,  4.34it/s]\rGenerating predictions:  41%|████      | 147/360 [00:39<00:48,  4.38it/s]\rGenerating predictions:  41%|████      | 148/360 [00:39<00:48,  4.40it/s]\rGenerating predictions:  41%|████▏     | 149/360 [00:39<00:47,  4.42it/s]\rGenerating predictions:  42%|████▏     | 150/360 [00:40<00:47,  4.44it/s]\rGenerating predictions:  42%|████▏     | 151/360 [00:40<00:47,  4.44it/s]\rGenerating predictions:  42%|████▏     | 152/360 [00:40<00:48,  4.25it/s]\rGenerating predictions:  42%|████▎     | 153/360 [00:40<00:52,  3.97it/s]\rGenerating predictions:  43%|████▎     | 154/360 [00:41<00:50,  4.11it/s]\rGenerating predictions:  43%|████▎     | 155/360 [00:41<00:48,  4.22it/s]\rGenerating predictions:  43%|████▎     | 156/360 [00:41<00:47,  4.29it/s]\rGenerating predictions:  44%|████▎     | 157/360 [00:41<00:46,  4.34it/s]\rGenerating predictions:  44%|████▍     | 158/360 [00:42<00:59,  3.42it/s]\rGenerating predictions:  44%|████▍     | 159/360 [00:42<00:54,  3.68it/s]\rGenerating predictions:  44%|████▍     | 160/360 [00:42<00:51,  3.89it/s]\rGenerating predictions:  45%|████▍     | 161/360 [00:42<00:50,  3.94it/s]\rGenerating predictions:  45%|████▌     | 162/360 [00:43<00:48,  4.08it/s]\rGenerating predictions:  45%|████▌     | 163/360 [00:43<00:47,  4.19it/s]\rGenerating predictions:  46%|████▌     | 164/360 [00:43<00:45,  4.27it/s]\rGenerating predictions:  46%|████▌     | 165/360 [00:43<00:45,  4.33it/s]\rGenerating predictions:  46%|████▌     | 166/360 [00:44<00:44,  4.36it/s]\rGenerating predictions:  46%|████▋     | 167/360 [00:44<00:45,  4.25it/s]\rGenerating predictions:  47%|████▋     | 168/360 [00:44<00:45,  4.20it/s]\rGenerating predictions:  47%|████▋     | 169/360 [00:44<00:48,  3.95it/s]\rGenerating predictions:  47%|████▋     | 170/360 [00:45<00:46,  4.09it/s]\rGenerating predictions:  48%|████▊     | 171/360 [00:45<00:44,  4.21it/s]\rGenerating predictions:  48%|████▊     | 172/360 [00:45<00:45,  4.16it/s]\rGenerating predictions:  48%|████▊     | 173/360 [00:45<00:43,  4.25it/s]\rGenerating predictions:  48%|████▊     | 174/360 [00:45<00:43,  4.31it/s]\rGenerating predictions:  49%|████▊     | 175/360 [00:46<00:43,  4.22it/s]\rGenerating predictions:  49%|████▉     | 176/360 [00:46<00:42,  4.29it/s]\rGenerating predictions:  49%|████▉     | 177/360 [00:46<00:42,  4.34it/s]\rGenerating predictions:  49%|████▉     | 178/360 [00:46<00:41,  4.38it/s]\rGenerating predictions:  50%|████▉     | 179/360 [00:47<00:41,  4.41it/s]\rGenerating predictions:  50%|█████     | 180/360 [00:47<00:40,  4.43it/s]\rGenerating predictions:  50%|█████     | 181/360 [00:47<00:40,  4.45it/s]\rGenerating predictions:  51%|█████     | 182/360 [00:47<00:39,  4.45it/s]\rGenerating predictions:  51%|█████     | 183/360 [00:47<00:40,  4.32it/s]\rGenerating predictions:  51%|█████     | 184/360 [00:48<00:40,  4.37it/s]\rGenerating predictions:  51%|█████▏    | 185/360 [00:50<02:12,  1.32it/s]\rGenerating predictions:  52%|█████▏    | 186/360 [00:50<01:45,  1.65it/s]\rGenerating predictions:  52%|█████▏    | 187/360 [00:50<01:26,  2.00it/s]\rGenerating predictions:  52%|█████▏    | 188/360 [00:50<01:11,  2.40it/s]\rGenerating predictions:  52%|█████▎    | 189/360 [00:51<01:01,  2.79it/s]\rGenerating predictions:  53%|█████▎    | 190/360 [00:51<00:54,  3.14it/s]\rGenerating predictions:  53%|█████▎    | 191/360 [00:51<00:48,  3.45it/s]\rGenerating predictions:  53%|█████▎    | 192/360 [00:51<00:45,  3.71it/s]\rGenerating predictions:  54%|█████▎    | 193/360 [00:52<00:42,  3.92it/s]\rGenerating predictions:  54%|█████▍    | 194/360 [00:52<00:42,  3.95it/s]\rGenerating predictions:  54%|█████▍    | 195/360 [00:52<00:42,  3.87it/s]\rGenerating predictions:  54%|█████▍    | 196/360 [00:52<00:41,  3.99it/s]\rGenerating predictions:  55%|█████▍    | 197/360 [00:53<00:39,  4.12it/s]\rGenerating predictions:  55%|█████▌    | 198/360 [00:53<00:38,  4.23it/s]\rGenerating predictions:  55%|█████▌    | 199/360 [00:53<00:38,  4.18it/s]\rGenerating predictions:  56%|█████▌    | 200/360 [00:53<00:37,  4.26it/s]\rGenerating predictions:  56%|█████▌    | 201/360 [00:53<00:36,  4.32it/s]\rGenerating predictions:  56%|█████▌    | 202/360 [00:54<00:37,  4.23it/s]\rGenerating predictions:  56%|█████▋    | 203/360 [00:54<00:36,  4.31it/s]\rGenerating predictions:  57%|█████▋    | 204/360 [00:54<00:35,  4.36it/s]\rGenerating predictions:  57%|█████▋    | 205/360 [00:54<00:35,  4.39it/s]\rGenerating predictions:  57%|█████▋    | 206/360 [00:55<00:34,  4.42it/s]\rGenerating predictions:  57%|█████▊    | 207/360 [00:55<00:34,  4.43it/s]\rGenerating predictions:  58%|█████▊    | 208/360 [00:55<00:34,  4.45it/s]\rGenerating predictions:  58%|█████▊    | 209/360 [00:55<00:33,  4.46it/s]\rGenerating predictions:  58%|█████▊    | 210/360 [00:55<00:33,  4.44it/s]\rGenerating predictions:  59%|█████▊    | 211/360 [00:56<00:33,  4.46it/s]\rGenerating predictions:  59%|█████▉    | 212/360 [00:56<00:41,  3.56it/s]\rGenerating predictions:  59%|█████▉    | 213/360 [00:56<00:38,  3.79it/s]\rGenerating predictions:  59%|█████▉    | 214/360 [00:57<00:36,  3.98it/s]\rGenerating predictions:  60%|█████▉    | 215/360 [00:57<00:36,  4.00it/s]\rGenerating predictions:  60%|██████    | 216/360 [00:57<00:34,  4.14it/s]\rGenerating predictions:  60%|██████    | 217/360 [00:57<00:34,  4.11it/s]\rGenerating predictions:  61%|██████    | 218/360 [00:58<00:33,  4.22it/s]\rGenerating predictions:  61%|██████    | 219/360 [00:58<00:32,  4.29it/s]\rGenerating predictions:  61%|██████    | 220/360 [00:58<00:32,  4.34it/s]\rGenerating predictions:  61%|██████▏   | 221/360 [00:58<00:32,  4.25it/s]\rGenerating predictions:  62%|██████▏   | 222/360 [00:58<00:32,  4.18it/s]\rGenerating predictions:  62%|██████▏   | 223/360 [00:59<00:32,  4.26it/s]\rGenerating predictions:  62%|██████▏   | 224/360 [00:59<00:31,  4.31it/s]\rGenerating predictions:  62%|██████▎   | 225/360 [01:00<00:48,  2.79it/s]\rGenerating predictions:  63%|██████▎   | 226/360 [01:00<00:42,  3.14it/s]\rGenerating predictions:  63%|██████▎   | 227/360 [01:00<00:40,  3.29it/s]\rGenerating predictions:  63%|██████▎   | 228/360 [01:00<00:38,  3.46it/s]\rGenerating predictions:  64%|██████▎   | 229/360 [01:01<00:35,  3.72it/s]\rGenerating predictions:  64%|██████▍   | 230/360 [01:01<00:34,  3.81it/s]\rGenerating predictions:  64%|██████▍   | 231/360 [01:01<00:32,  3.98it/s]\rGenerating predictions:  64%|██████▍   | 232/360 [01:01<00:31,  4.12it/s]\rGenerating predictions:  65%|██████▍   | 233/360 [01:01<00:30,  4.22it/s]\rGenerating predictions:  65%|██████▌   | 234/360 [01:02<00:29,  4.29it/s]\rGenerating predictions:  65%|██████▌   | 235/360 [01:02<00:28,  4.34it/s]\rGenerating predictions:  66%|██████▌   | 236/360 [01:02<00:29,  4.25it/s]\rGenerating predictions:  66%|██████▌   | 237/360 [01:02<00:28,  4.31it/s]\rGenerating predictions:  66%|██████▌   | 238/360 [01:03<00:28,  4.23it/s]\rGenerating predictions:  66%|██████▋   | 239/360 [01:03<00:28,  4.30it/s]\rGenerating predictions:  67%|██████▋   | 240/360 [01:03<00:27,  4.35it/s]\rGenerating predictions:  67%|██████▋   | 241/360 [01:04<01:03,  1.89it/s]\rGenerating predictions:  67%|██████▋   | 242/360 [01:05<00:51,  2.28it/s]\rGenerating predictions:  68%|██████▊   | 243/360 [01:05<00:43,  2.67it/s]\rGenerating predictions:  68%|██████▊   | 244/360 [01:05<00:38,  3.04it/s]\rGenerating predictions:  68%|██████▊   | 245/360 [01:05<00:34,  3.34it/s]\rGenerating predictions:  68%|██████▊   | 246/360 [01:05<00:32,  3.46it/s]\rGenerating predictions:  69%|██████▊   | 247/360 [01:06<00:30,  3.72it/s]\rGenerating predictions:  69%|██████▉   | 248/360 [01:06<00:28,  3.92it/s]\rGenerating predictions:  69%|██████▉   | 249/360 [01:07<01:06,  1.68it/s]\rGenerating predictions:  69%|██████▉   | 250/360 [01:08<00:53,  2.07it/s]\rGenerating predictions:  70%|██████▉   | 251/360 [01:08<00:44,  2.46it/s]\rGenerating predictions:  70%|███████   | 252/360 [01:08<00:42,  2.55it/s]\rGenerating predictions:  70%|███████   | 253/360 [01:08<00:36,  2.93it/s]\rGenerating predictions:  71%|███████   | 254/360 [01:09<00:32,  3.27it/s]\rGenerating predictions:  71%|███████   | 255/360 [01:09<00:30,  3.47it/s]\rGenerating predictions:  71%|███████   | 256/360 [01:09<00:27,  3.72it/s]\rGenerating predictions:  71%|███████▏  | 257/360 [01:10<00:58,  1.75it/s]\rGenerating predictions:  72%|███████▏  | 258/360 [01:11<00:48,  2.10it/s]\rGenerating predictions:  72%|███████▏  | 259/360 [01:11<00:41,  2.46it/s]\rGenerating predictions:  72%|███████▏  | 260/360 [01:11<00:35,  2.78it/s]\rGenerating predictions:  72%|███████▎  | 261/360 [01:11<00:32,  3.07it/s]\rGenerating predictions:  73%|███████▎  | 262/360 [01:12<00:28,  3.38it/s]\rGenerating predictions:  73%|███████▎  | 263/360 [01:12<00:27,  3.58it/s]\rGenerating predictions:  73%|███████▎  | 264/360 [01:12<00:26,  3.62it/s]\rGenerating predictions:  74%|███████▎  | 265/360 [01:12<00:24,  3.83it/s]\rGenerating predictions:  74%|███████▍  | 266/360 [01:12<00:23,  4.00it/s]\rGenerating predictions:  74%|███████▍  | 267/360 [01:13<00:23,  4.01it/s]\rGenerating predictions:  74%|███████▍  | 268/360 [01:13<00:24,  3.80it/s]\rGenerating predictions:  75%|███████▍  | 269/360 [01:13<00:22,  3.98it/s]\rGenerating predictions:  75%|███████▌  | 270/360 [01:13<00:21,  4.11it/s]\rGenerating predictions:  75%|███████▌  | 271/360 [01:14<00:21,  4.21it/s]\rGenerating predictions:  76%|███████▌  | 272/360 [01:14<00:20,  4.29it/s]\rGenerating predictions:  76%|███████▌  | 273/360 [01:14<00:20,  4.33it/s]\rGenerating predictions:  76%|███████▌  | 274/360 [01:14<00:20,  4.23it/s]\rGenerating predictions:  76%|███████▋  | 275/360 [01:15<00:20,  4.17it/s]\rGenerating predictions:  77%|███████▋  | 276/360 [01:15<00:19,  4.27it/s]\rGenerating predictions:  77%|███████▋  | 277/360 [01:15<00:19,  4.32it/s]\rGenerating predictions:  77%|███████▋  | 278/360 [01:15<00:18,  4.36it/s]\rGenerating predictions:  78%|███████▊  | 279/360 [01:16<00:19,  4.26it/s]\rGenerating predictions:  78%|███████▊  | 280/360 [01:16<00:21,  3.65it/s]\rGenerating predictions:  78%|███████▊  | 281/360 [01:16<00:24,  3.22it/s]\rGenerating predictions:  78%|███████▊  | 282/360 [01:17<00:22,  3.51it/s]\rGenerating predictions:  79%|███████▊  | 283/360 [01:17<00:20,  3.75it/s]\rGenerating predictions:  79%|███████▉  | 284/360 [01:17<00:19,  3.94it/s]\rGenerating predictions:  79%|███████▉  | 285/360 [01:17<00:18,  3.97it/s]\rGenerating predictions:  79%|███████▉  | 286/360 [01:17<00:18,  4.10it/s]\rGenerating predictions:  80%|███████▉  | 287/360 [01:18<00:33,  2.15it/s]\rGenerating predictions:  80%|████████  | 288/360 [01:19<00:28,  2.55it/s]\rGenerating predictions:  80%|████████  | 289/360 [01:19<00:24,  2.93it/s]\rGenerating predictions:  81%|████████  | 290/360 [01:19<00:21,  3.27it/s]\rGenerating predictions:  81%|████████  | 291/360 [01:19<00:19,  3.56it/s]\rGenerating predictions:  81%|████████  | 292/360 [01:20<00:17,  3.79it/s]\rGenerating predictions:  81%|████████▏ | 293/360 [01:20<00:17,  3.81it/s]\rGenerating predictions:  82%|████████▏ | 294/360 [01:20<00:17,  3.77it/s]\rGenerating predictions:  82%|████████▏ | 295/360 [01:20<00:16,  3.95it/s]\rGenerating predictions:  82%|████████▏ | 296/360 [01:21<00:15,  4.09it/s]\rGenerating predictions:  82%|████████▎ | 297/360 [01:21<00:15,  4.19it/s]\rGenerating predictions:  83%|████████▎ | 298/360 [01:21<00:14,  4.27it/s]\rGenerating predictions:  83%|████████▎ | 299/360 [01:22<00:30,  1.97it/s]\rGenerating predictions:  83%|████████▎ | 300/360 [01:22<00:25,  2.37it/s]\rGenerating predictions:  84%|████████▎ | 301/360 [01:23<00:21,  2.76it/s]\rGenerating predictions:  84%|████████▍ | 302/360 [01:23<00:18,  3.05it/s]\rGenerating predictions:  84%|████████▍ | 303/360 [01:23<00:16,  3.38it/s]\rGenerating predictions:  84%|████████▍ | 304/360 [01:23<00:15,  3.56it/s]\rGenerating predictions:  85%|████████▍ | 305/360 [01:24<00:14,  3.79it/s]\rGenerating predictions:  85%|████████▌ | 306/360 [01:24<00:13,  3.97it/s]\rGenerating predictions:  85%|████████▌ | 307/360 [01:24<00:13,  3.89it/s]\rGenerating predictions:  86%|████████▌ | 308/360 [01:24<00:13,  3.91it/s]\rGenerating predictions:  86%|████████▌ | 309/360 [01:24<00:12,  4.06it/s]\rGenerating predictions:  86%|████████▌ | 310/360 [01:25<00:11,  4.18it/s]\rGenerating predictions:  86%|████████▋ | 311/360 [01:25<00:11,  4.27it/s]\rGenerating predictions:  87%|████████▋ | 312/360 [01:25<00:11,  4.33it/s]\rGenerating predictions:  87%|████████▋ | 313/360 [01:25<00:10,  4.38it/s]\rGenerating predictions:  87%|████████▋ | 314/360 [01:26<00:10,  4.27it/s]\rGenerating predictions:  88%|████████▊ | 315/360 [01:26<00:10,  4.20it/s]\rGenerating predictions:  88%|████████▊ | 316/360 [01:26<00:10,  4.28it/s]\rGenerating predictions:  88%|████████▊ | 317/360 [01:26<00:09,  4.34it/s]\rGenerating predictions:  88%|████████▊ | 318/360 [01:27<00:09,  4.37it/s]\rGenerating predictions:  89%|████████▊ | 319/360 [01:27<00:09,  4.40it/s]\rGenerating predictions:  89%|████████▉ | 320/360 [01:27<00:09,  4.30it/s]\rGenerating predictions:  89%|████████▉ | 321/360 [01:27<00:09,  4.20it/s]\rGenerating predictions:  89%|████████▉ | 322/360 [01:27<00:08,  4.28it/s]\rGenerating predictions:  90%|████████▉ | 323/360 [01:28<00:08,  4.34it/s]\rGenerating predictions:  90%|█████████ | 324/360 [01:28<00:09,  3.73it/s]\rGenerating predictions:  90%|█████████ | 325/360 [01:28<00:09,  3.79it/s]\rGenerating predictions:  91%|█████████ | 326/360 [01:29<00:08,  3.96it/s]\rGenerating predictions:  91%|█████████ | 327/360 [01:29<00:08,  4.11it/s]\rGenerating predictions:  91%|█████████ | 328/360 [01:29<00:07,  4.22it/s]\rGenerating predictions:  91%|█████████▏| 329/360 [01:29<00:07,  4.29it/s]\rGenerating predictions:  92%|█████████▏| 330/360 [01:29<00:06,  4.35it/s]\rGenerating predictions:  92%|█████████▏| 331/360 [01:30<00:06,  4.39it/s]\rGenerating predictions:  92%|█████████▏| 332/360 [01:30<00:06,  4.41it/s]\rGenerating predictions:  92%|█████████▎| 333/360 [01:30<00:08,  3.09it/s]\rGenerating predictions:  93%|█████████▎| 334/360 [01:31<00:07,  3.41it/s]\rGenerating predictions:  93%|█████████▎| 335/360 [01:31<00:06,  3.58it/s]\rGenerating predictions:  93%|█████████▎| 336/360 [01:31<00:06,  3.81it/s]\rGenerating predictions:  94%|█████████▎| 337/360 [01:31<00:05,  3.98it/s]\rGenerating predictions:  94%|█████████▍| 338/360 [01:32<00:05,  4.12it/s]\rGenerating predictions:  94%|█████████▍| 339/360 [01:32<00:04,  4.22it/s]\rGenerating predictions:  94%|█████████▍| 340/360 [01:32<00:05,  3.99it/s]\rGenerating predictions:  95%|█████████▍| 341/360 [01:32<00:04,  3.98it/s]\rGenerating predictions:  95%|█████████▌| 342/360 [01:33<00:04,  4.00it/s]\rGenerating predictions:  95%|█████████▌| 343/360 [01:33<00:04,  4.12it/s]\rGenerating predictions:  96%|█████████▌| 344/360 [01:33<00:03,  4.22it/s]\rGenerating predictions:  96%|█████████▌| 345/360 [01:33<00:03,  4.30it/s]\rGenerating predictions:  96%|█████████▌| 346/360 [01:33<00:03,  4.21it/s]\rGenerating predictions:  96%|█████████▋| 347/360 [01:34<00:03,  4.29it/s]\rGenerating predictions:  97%|█████████▋| 348/360 [01:34<00:02,  4.35it/s]\rGenerating predictions:  97%|█████████▋| 349/360 [01:34<00:02,  4.39it/s]\rGenerating predictions:  97%|█████████▋| 350/360 [01:34<00:02,  4.41it/s]\rGenerating predictions:  98%|█████████▊| 351/360 [01:35<00:02,  4.44it/s]\rGenerating predictions:  98%|█████████▊| 352/360 [01:35<00:01,  4.31it/s]\rGenerating predictions:  98%|█████████▊| 353/360 [01:35<00:01,  4.36it/s]\rGenerating predictions:  98%|█████████▊| 354/360 [01:35<00:01,  4.39it/s]\rGenerating predictions:  99%|█████████▊| 355/360 [01:36<00:01,  4.41it/s]\rGenerating predictions:  99%|█████████▉| 356/360 [01:36<00:00,  4.43it/s]\rGenerating predictions:  99%|█████████▉| 357/360 [01:36<00:00,  4.28it/s]\rGenerating predictions:  99%|█████████▉| 358/360 [01:36<00:00,  3.82it/s]\rGenerating predictions: 100%|█████████▉| 359/360 [01:37<00:00,  3.99it/s]\rGenerating predictions: 100%|██████████| 360/360 [01:37<00:00,  4.13it/s]\rGenerating predictions: 100%|██████████| 360/360 [01:37<00:00,  3.70it/s]\n"
     ]
    },
    {
     "data": {
      "text/html": [
       "<div>\n",
       "<style scoped>\n",
       "    .dataframe tbody tr th:only-of-type {\n",
       "        vertical-align: middle;\n",
       "    }\n",
       "\n",
       "    .dataframe tbody tr th {\n",
       "        vertical-align: top;\n",
       "    }\n",
       "\n",
       "    .dataframe thead th {\n",
       "        text-align: right;\n",
       "    }\n",
       "</style>\n",
       "<table border=\"1\" class=\"dataframe\">\n",
       "  <thead>\n",
       "    <tr style=\"text-align: right;\">\n",
       "      <th></th>\n",
       "      <th>inst_id</th>\n",
       "      <th>text</th>\n",
       "      <th>labels</th>\n",
       "      <th>explanations</th>\n",
       "      <th>predictions</th>\n",
       "    </tr>\n",
       "  </thead>\n",
       "  <tbody>\n",
       "    <tr>\n",
       "      <th>0</th>\n",
       "      <td>1</td>\n",
       "      <td>You take things that don't belong to you.</td>\n",
       "      <td>ABUSE</td>\n",
       "      <td>ABUSE</td>\n",
       "      <td>ABUSE</td>\n",
       "    </tr>\n",
       "    <tr>\n",
       "      <th>1</th>\n",
       "      <td>2</td>\n",
       "      <td>I take it you don't want to be characterised i...</td>\n",
       "      <td>NONE ABUSE</td>\n",
       "      <td>NONE</td>\n",
       "      <td>NONE ABUSE</td>\n",
       "    </tr>\n",
       "    <tr>\n",
       "      <th>2</th>\n",
       "      <td>3</td>\n",
       "      <td>You are so imaginative at what could go wrong.</td>\n",
       "      <td>NONE ABUSE</td>\n",
       "      <td>NONE</td>\n",
       "      <td>NONE ABUSE</td>\n",
       "    </tr>\n",
       "    <tr>\n",
       "      <th>3</th>\n",
       "      <td>4</td>\n",
       "      <td>You need to act your age.</td>\n",
       "      <td>ABUSE</td>\n",
       "      <td>NONE</td>\n",
       "      <td>NONE ABUSE</td>\n",
       "    </tr>\n",
       "    <tr>\n",
       "      <th>4</th>\n",
       "      <td>5</td>\n",
       "      <td>I think you might be challenged vertically.</td>\n",
       "      <td>ABUSE</td>\n",
       "      <td>NONE</td>\n",
       "      <td>NONE ABUSE</td>\n",
       "    </tr>\n",
       "    <tr>\n",
       "      <th>...</th>\n",
       "      <td>...</td>\n",
       "      <td>...</td>\n",
       "      <td>...</td>\n",
       "      <td>...</td>\n",
       "      <td>...</td>\n",
       "    </tr>\n",
       "    <tr>\n",
       "      <th>355</th>\n",
       "      <td>356</td>\n",
       "      <td>You really carry on talking, regardless of the...</td>\n",
       "      <td>NONE ABUSE</td>\n",
       "      <td>NONE</td>\n",
       "      <td>NONE ABUSE</td>\n",
       "    </tr>\n",
       "    <tr>\n",
       "      <th>356</th>\n",
       "      <td>357</td>\n",
       "      <td>You are the reason I have decided to spend mor...</td>\n",
       "      <td>NONE ABUSE</td>\n",
       "      <td>NONE</td>\n",
       "      <td>NONE ABUSE</td>\n",
       "    </tr>\n",
       "    <tr>\n",
       "      <th>357</th>\n",
       "      <td>358</td>\n",
       "      <td>You have always given me amazing vibes.</td>\n",
       "      <td>NONE ABUSE</td>\n",
       "      <td>NONE</td>\n",
       "      <td>NONE ABUSE</td>\n",
       "    </tr>\n",
       "    <tr>\n",
       "      <th>358</th>\n",
       "      <td>359</td>\n",
       "      <td>It's great that no one notices you when you sh...</td>\n",
       "      <td>NONE ABUSE</td>\n",
       "      <td>NONE</td>\n",
       "      <td>NONE ABUSE</td>\n",
       "    </tr>\n",
       "    <tr>\n",
       "      <th>359</th>\n",
       "      <td>360</td>\n",
       "      <td>You could be funny sometimes.</td>\n",
       "      <td>ABUSE</td>\n",
       "      <td>NONE</td>\n",
       "      <td>NONE ABUSE</td>\n",
       "    </tr>\n",
       "  </tbody>\n",
       "</table>\n",
       "<p>360 rows × 5 columns</p>\n",
       "</div>"
      ],
      "text/plain": [
       "     inst_id                                               text      labels  \\\n",
       "0          1          You take things that don't belong to you.       ABUSE   \n",
       "1          2  I take it you don't want to be characterised i...  NONE ABUSE   \n",
       "2          3     You are so imaginative at what could go wrong.  NONE ABUSE   \n",
       "3          4                          You need to act your age.       ABUSE   \n",
       "4          5        I think you might be challenged vertically.       ABUSE   \n",
       "..       ...                                                ...         ...   \n",
       "355      356  You really carry on talking, regardless of the...  NONE ABUSE   \n",
       "356      357  You are the reason I have decided to spend mor...  NONE ABUSE   \n",
       "357      358            You have always given me amazing vibes.  NONE ABUSE   \n",
       "358      359  It's great that no one notices you when you sh...  NONE ABUSE   \n",
       "359      360                      You could be funny sometimes.       ABUSE   \n",
       "\n",
       "    explanations predictions  \n",
       "0          ABUSE       ABUSE  \n",
       "1           NONE  NONE ABUSE  \n",
       "2           NONE  NONE ABUSE  \n",
       "3           NONE  NONE ABUSE  \n",
       "4           NONE  NONE ABUSE  \n",
       "..           ...         ...  \n",
       "355         NONE  NONE ABUSE  \n",
       "356         NONE  NONE ABUSE  \n",
       "357         NONE  NONE ABUSE  \n",
       "358         NONE  NONE ABUSE  \n",
       "359         NONE  NONE ABUSE  \n",
       "\n",
       "[360 rows x 5 columns]"
      ]
     },
     "metadata": {},
     "output_type": "display_data"
    }
   ],
   "source": [
    "generate_data(dataset_csv, examples_file, output_csv)"
   ]
  },
  {
   "cell_type": "code",
   "execution_count": 26,
   "metadata": {},
   "outputs": [
    {
     "name": "stdout",
     "output_type": "stream",
     "text": [
      "Evaluation Metrics:\n",
      "Precision: 0.6356\n",
      "Recall: 0.6278\n",
      "F1 Score: 0.6161\n"
     ]
    },
    {
     "name": "stderr",
     "output_type": "stream",
     "text": [
      "/home/longju/.local/lib/python3.10/site-packages/sklearn/metrics/_classification.py:1344: UndefinedMetricWarning: Recall and F-score are ill-defined and being set to 0.0 in labels with no true samples. Use `zero_division` parameter to control this behavior.\n",
      "  _warn_prf(average, modifier, msg_start, len(result))\n",
      "/home/longju/.local/lib/python3.10/site-packages/sklearn/metrics/_classification.py:1344: UndefinedMetricWarning: Recall and F-score are ill-defined and being set to 0.0 in labels with no true samples. Use `zero_division` parameter to control this behavior.\n",
      "  _warn_prf(average, modifier, msg_start, len(result))\n",
      "/home/longju/.local/lib/python3.10/site-packages/sklearn/metrics/_classification.py:1344: UndefinedMetricWarning: Recall and F-score are ill-defined and being set to 0.0 in labels with no true samples. Use `zero_division` parameter to control this behavior.\n",
      "  _warn_prf(average, modifier, msg_start, len(result))\n"
     ]
    }
   ],
   "source": [
    "from sklearn.metrics import classification_report\n",
    "\n",
    "def evaluate(predictions_path):\n",
    "    # Load the predictions dataframe\n",
    "    predictions_df = pd.read_csv(predictions_path)\n",
    "    \n",
    "    # Extract true labels and predicted labels\n",
    "    true_labels = predictions_df['labels']\n",
    "    predicted_labels = predictions_df['predictions']\n",
    "    \n",
    "    # Generate classification report\n",
    "    report = classification_report(true_labels, predicted_labels, output_dict=True)\n",
    "    \n",
    "    # Extract precision, recall, and F1 score for each class\n",
    "    precision = report['weighted avg']['precision']\n",
    "    recall = report['weighted avg']['recall']\n",
    "    f1_score = report['weighted avg']['f1-score']\n",
    "    \n",
    "    # Print evaluation metrics\n",
    "    print(\"Evaluation Metrics:\")\n",
    "    print(f\"Precision: {precision:.4f}\")\n",
    "    print(f\"Recall: {recall:.4f}\")\n",
    "    print(f\"F1 Score: {f1_score:.4f}\")\n",
    "\n",
    "evaluate(\"flant5_large_cot_prediction.csv\")"
   ]
  }
 ],
 "metadata": {
  "kernelspec": {
   "display_name": "llava_autogen",
   "language": "python",
   "name": "llava"
  },
  "language_info": {
   "codemirror_mode": {
    "name": "ipython",
    "version": 3
   },
   "file_extension": ".py",
   "mimetype": "text/x-python",
   "name": "python",
   "nbconvert_exporter": "python",
   "pygments_lexer": "ipython3",
   "version": "3.10.14"
  },
  "orig_nbformat": 4,
  "vscode": {
   "interpreter": {
    "hash": "63a59f273878d21d9c11a68929f8708312fda201dd9668999f076f8cf65bfd79"
   }
  }
 },
 "nbformat": 4,
 "nbformat_minor": 2
}
