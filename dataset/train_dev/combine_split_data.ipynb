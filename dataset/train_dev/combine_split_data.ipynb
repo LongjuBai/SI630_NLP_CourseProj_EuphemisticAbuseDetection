{
 "cells": [
  {
   "cell_type": "code",
   "execution_count": 15,
   "metadata": {},
   "outputs": [],
   "source": [
    "import pandas as pd\n",
    "from sklearn.model_selection import train_test_split\n",
    "import os"
   ]
  },
  {
   "cell_type": "code",
   "execution_count": 16,
   "metadata": {},
   "outputs": [],
   "source": [
    "augmented_datasets_dir = '../augmented_datasets/'"
   ]
  },
  {
   "cell_type": "code",
   "execution_count": 17,
   "metadata": {},
   "outputs": [],
   "source": [
    "original_df = pd.read_csv(os.path.join(augmented_datasets_dir, 'modified_goldstandard.csv'))\n"
   ]
  },
  {
   "cell_type": "code",
   "execution_count": 18,
   "metadata": {},
   "outputs": [],
   "source": [
    "original_train_df, test_df = train_test_split(original_df, test_size=0.2, random_state=42)\n",
    "original_train_df = original_train_df.sample(frac=1, random_state=42).reset_index(drop=True)\n",
    "test_df = test_df.sample(frac=1, random_state=42).reset_index(drop=True)"
   ]
  },
  {
   "cell_type": "code",
   "execution_count": 23,
   "metadata": {},
   "outputs": [],
   "source": [
    "def modify_df_columns(df):\n",
    "    df = df.rename(columns={'INSTANCE_COLUMN': 'text', 'LABEL_COLUMN': 'labels'})\n",
    "    df['inst_id'] = range(1, len(df) + 1)\n",
    "    # Ensure 'inst_id' is the first column followed by 'text' and 'labels'\n",
    "    return df[['inst_id', 'text', 'labels']]"
   ]
  },
  {
   "cell_type": "code",
   "execution_count": 20,
   "metadata": {},
   "outputs": [
    {
     "data": {
      "text/html": [
       "<div>\n",
       "<style scoped>\n",
       "    .dataframe tbody tr th:only-of-type {\n",
       "        vertical-align: middle;\n",
       "    }\n",
       "\n",
       "    .dataframe tbody tr th {\n",
       "        vertical-align: top;\n",
       "    }\n",
       "\n",
       "    .dataframe thead th {\n",
       "        text-align: right;\n",
       "    }\n",
       "</style>\n",
       "<table border=\"1\" class=\"dataframe\">\n",
       "  <thead>\n",
       "    <tr style=\"text-align: right;\">\n",
       "      <th></th>\n",
       "      <th>text</th>\n",
       "      <th>labels</th>\n",
       "    </tr>\n",
       "  </thead>\n",
       "  <tbody>\n",
       "    <tr>\n",
       "      <th>0</th>\n",
       "      <td>You take things that don't belong to you.</td>\n",
       "      <td>ABUSE</td>\n",
       "    </tr>\n",
       "    <tr>\n",
       "      <th>1</th>\n",
       "      <td>I take it you don't want to be characterised i...</td>\n",
       "      <td>NONE ABUSE</td>\n",
       "    </tr>\n",
       "    <tr>\n",
       "      <th>2</th>\n",
       "      <td>You are so imaginative at what could go wrong.</td>\n",
       "      <td>NONE ABUSE</td>\n",
       "    </tr>\n",
       "    <tr>\n",
       "      <th>3</th>\n",
       "      <td>You need to act your age.</td>\n",
       "      <td>ABUSE</td>\n",
       "    </tr>\n",
       "    <tr>\n",
       "      <th>4</th>\n",
       "      <td>I think you might be challenged vertically.</td>\n",
       "      <td>ABUSE</td>\n",
       "    </tr>\n",
       "    <tr>\n",
       "      <th>...</th>\n",
       "      <td>...</td>\n",
       "      <td>...</td>\n",
       "    </tr>\n",
       "    <tr>\n",
       "      <th>355</th>\n",
       "      <td>You really carry on talking, regardless of the...</td>\n",
       "      <td>NONE ABUSE</td>\n",
       "    </tr>\n",
       "    <tr>\n",
       "      <th>356</th>\n",
       "      <td>You are the reason I have decided to spend mor...</td>\n",
       "      <td>NONE ABUSE</td>\n",
       "    </tr>\n",
       "    <tr>\n",
       "      <th>357</th>\n",
       "      <td>You have always given me amazing vibes.</td>\n",
       "      <td>NONE ABUSE</td>\n",
       "    </tr>\n",
       "    <tr>\n",
       "      <th>358</th>\n",
       "      <td>It's great that no one notices you when you sh...</td>\n",
       "      <td>NONE ABUSE</td>\n",
       "    </tr>\n",
       "    <tr>\n",
       "      <th>359</th>\n",
       "      <td>You could be funny sometimes.</td>\n",
       "      <td>ABUSE</td>\n",
       "    </tr>\n",
       "  </tbody>\n",
       "</table>\n",
       "<p>360 rows × 2 columns</p>\n",
       "</div>"
      ],
      "text/plain": [
       "                                                  text      labels\n",
       "0            You take things that don't belong to you.       ABUSE\n",
       "1    I take it you don't want to be characterised i...  NONE ABUSE\n",
       "2       You are so imaginative at what could go wrong.  NONE ABUSE\n",
       "3                            You need to act your age.       ABUSE\n",
       "4          I think you might be challenged vertically.       ABUSE\n",
       "..                                                 ...         ...\n",
       "355  You really carry on talking, regardless of the...  NONE ABUSE\n",
       "356  You are the reason I have decided to spend mor...  NONE ABUSE\n",
       "357            You have always given me amazing vibes.  NONE ABUSE\n",
       "358  It's great that no one notices you when you sh...  NONE ABUSE\n",
       "359                      You could be funny sometimes.       ABUSE\n",
       "\n",
       "[360 rows x 2 columns]"
      ]
     },
     "metadata": {},
     "output_type": "display_data"
    }
   ],
   "source": [
    "test_df = modify_df_columns(test_df)\n",
    "# test_df.to_csv(os.path.join(augmented_datasets_dir, 'test_set.csv'), index=False)\n",
    "display(test_df)"
   ]
  },
  {
   "cell_type": "code",
   "execution_count": 21,
   "metadata": {},
   "outputs": [
    {
     "data": {
      "text/html": [
       "<div>\n",
       "<style scoped>\n",
       "    .dataframe tbody tr th:only-of-type {\n",
       "        vertical-align: middle;\n",
       "    }\n",
       "\n",
       "    .dataframe tbody tr th {\n",
       "        vertical-align: top;\n",
       "    }\n",
       "\n",
       "    .dataframe thead th {\n",
       "        text-align: right;\n",
       "    }\n",
       "</style>\n",
       "<table border=\"1\" class=\"dataframe\">\n",
       "  <thead>\n",
       "    <tr style=\"text-align: right;\">\n",
       "      <th></th>\n",
       "      <th>text</th>\n",
       "      <th>labels</th>\n",
       "    </tr>\n",
       "  </thead>\n",
       "  <tbody>\n",
       "    <tr>\n",
       "      <th>0</th>\n",
       "      <td>You seem to not take plans with your friends v...</td>\n",
       "      <td>NONE ABUSE</td>\n",
       "    </tr>\n",
       "    <tr>\n",
       "      <th>1</th>\n",
       "      <td>You are extremely provocative when we are disc...</td>\n",
       "      <td>NONE ABUSE</td>\n",
       "    </tr>\n",
       "    <tr>\n",
       "      <th>2</th>\n",
       "      <td>You would make better bread if you put in more...</td>\n",
       "      <td>NONE ABUSE</td>\n",
       "    </tr>\n",
       "    <tr>\n",
       "      <th>3</th>\n",
       "      <td>Your ability to ignore the negativity is aston...</td>\n",
       "      <td>NONE ABUSE</td>\n",
       "    </tr>\n",
       "    <tr>\n",
       "      <th>4</th>\n",
       "      <td>Your stinginess is not your greatest attribute.</td>\n",
       "      <td>NONE ABUSE</td>\n",
       "    </tr>\n",
       "    <tr>\n",
       "      <th>...</th>\n",
       "      <td>...</td>\n",
       "      <td>...</td>\n",
       "    </tr>\n",
       "    <tr>\n",
       "      <th>1432</th>\n",
       "      <td>You'll let anyone between your legs.</td>\n",
       "      <td>ABUSE</td>\n",
       "    </tr>\n",
       "    <tr>\n",
       "      <th>1433</th>\n",
       "      <td>How wonderful that you share your interests wi...</td>\n",
       "      <td>NONE ABUSE</td>\n",
       "    </tr>\n",
       "    <tr>\n",
       "      <th>1434</th>\n",
       "      <td>Your commitment to family is praiseworthy.</td>\n",
       "      <td>NONE ABUSE</td>\n",
       "    </tr>\n",
       "    <tr>\n",
       "      <th>1435</th>\n",
       "      <td>You could benefit from being more organised.</td>\n",
       "      <td>NONE ABUSE</td>\n",
       "    </tr>\n",
       "    <tr>\n",
       "      <th>1436</th>\n",
       "      <td>You always want to be the center of attention.</td>\n",
       "      <td>ABUSE</td>\n",
       "    </tr>\n",
       "  </tbody>\n",
       "</table>\n",
       "<p>1437 rows × 2 columns</p>\n",
       "</div>"
      ],
      "text/plain": [
       "                                                   text      labels\n",
       "0     You seem to not take plans with your friends v...  NONE ABUSE\n",
       "1     You are extremely provocative when we are disc...  NONE ABUSE\n",
       "2     You would make better bread if you put in more...  NONE ABUSE\n",
       "3     Your ability to ignore the negativity is aston...  NONE ABUSE\n",
       "4       Your stinginess is not your greatest attribute.  NONE ABUSE\n",
       "...                                                 ...         ...\n",
       "1432               You'll let anyone between your legs.       ABUSE\n",
       "1433  How wonderful that you share your interests wi...  NONE ABUSE\n",
       "1434         Your commitment to family is praiseworthy.  NONE ABUSE\n",
       "1435       You could benefit from being more organised.  NONE ABUSE\n",
       "1436     You always want to be the center of attention.       ABUSE\n",
       "\n",
       "[1437 rows x 2 columns]"
      ]
     },
     "metadata": {},
     "output_type": "display_data"
    }
   ],
   "source": [
    "original_train_df = modify_df_columns(original_train_df)\n",
    "# original_train_df.to_csv(os.path.join(augmented_datasets_dir, 'original_train_set.csv'), index=False)\n",
    "display(original_train_df)"
   ]
  },
  {
   "cell_type": "code",
   "execution_count": 24,
   "metadata": {},
   "outputs": [],
   "source": [
    "for filename in ['flant5_large_augmented_data.csv', 'flant5_xxl_augmented_data.csv', 'gpt4_augmented_data.csv']:\n",
    "    aug_df = pd.read_csv(os.path.join(augmented_datasets_dir, filename))\n",
    "    \n",
    "    # Modify columns of augmented data before concatenation\n",
    "    aug_df = modify_df_columns(aug_df)\n",
    "    \n",
    "    # Combine with the original train set\n",
    "    aug_train_df = pd.concat([original_train_df[['text', 'labels']], aug_df[['text', 'labels']]], ignore_index=True)\n",
    "    aug_train_df = aug_train_df.sample(frac=1, random_state=42).reset_index(drop=True)\n",
    "    \n",
    "    # Add 'inst_id' column to the combined DataFrame at the first position\n",
    "    aug_train_df.insert(0, 'inst_id', range(1, len(aug_train_df) + 1))\n",
    "    \n",
    "    # Save the combined train set\n",
    "    new_filename = filename.replace('_augmented_data.csv', '_aug_train.csv')\n",
    "    aug_train_df.to_csv(os.path.join(augmented_datasets_dir, new_filename), index=False)"
   ]
  }
 ],
 "metadata": {
  "kernelspec": {
   "display_name": "llava",
   "language": "python",
   "name": "python3"
  },
  "language_info": {
   "codemirror_mode": {
    "name": "ipython",
    "version": 3
   },
   "file_extension": ".py",
   "mimetype": "text/x-python",
   "name": "python",
   "nbconvert_exporter": "python",
   "pygments_lexer": "ipython3",
   "version": "3.10.14"
  },
  "orig_nbformat": 4,
  "vscode": {
   "interpreter": {
    "hash": "63a59f273878d21d9c11a68929f8708312fda201dd9668999f076f8cf65bfd79"
   }
  }
 },
 "nbformat": 4,
 "nbformat_minor": 2
}
